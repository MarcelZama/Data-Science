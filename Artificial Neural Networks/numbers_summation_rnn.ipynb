{
 "cells": [
  {
   "cell_type": "markdown",
   "metadata": {},
   "source": [
    "# Numbers Summation (using RNN LSTM)"
   ]
  },
  {
   "cell_type": "markdown",
   "metadata": {},
   "source": [
    "##### Name: Marcel Zama   \n",
    "##### Student Nr: C00260146\n",
    "##### Date: 12/04/2024"
   ]
  },
  {
   "cell_type": "markdown",
   "metadata": {},
   "source": [
    "## Experiment overview"
   ]
  },
  {
   "cell_type": "markdown",
   "metadata": {},
   "source": [
    "In this experiment we will use Recurrent Neural Network (RNN) to sum up two numbers (each number is in a range of `[1, 99]`). The summation expression (i.e. `\"1+45\"` or `37+68`) that will be sent to the RNN _input_ will be treated as a **string** (sequence of characters) and the _output_ of the RNN will also be a string (i.e. `\"46\"` or `\"106\"`) - the sequence of characters that will represent the result of summation. This is a \"sequence-to-sequence\" version of RNN implementation. We will use LSTM (Long Short-Term Memory) recurent neural network for this task.\n",
    "\n",
    "For this experiment we will use Tensorflow v2 with its Keras API."
   ]
  },
  {
   "cell_type": "markdown",
   "metadata": {},
   "source": [
    "## Import dependencies"
   ]
  },
  {
   "cell_type": "code",
   "execution_count": 1,
   "metadata": {},
   "outputs": [],
   "source": [
    "# Selecting Tensorflow version v2 (the command is relevant for Colab only).\n",
    "# %tensorflow_version 2.x"
   ]
  },
  {
   "cell_type": "code",
   "execution_count": 2,
   "metadata": {},
   "outputs": [],
   "source": [
    "import tensorflow as tf\n",
    "import matplotlib.pyplot as plt\n",
    "import numpy as np\n",
    "import platform\n",
    "import random\n",
    "import math\n",
    "import datetime"
   ]
  },
  {
   "cell_type": "markdown",
   "metadata": {},
   "source": [
    "## Configuring Tensorboard\n",
    "\n",
    "We will use [Tensorboard](https://www.tensorflow.org/tensorboard) to debug the model later."
   ]
  },
  {
   "cell_type": "code",
   "execution_count": 3,
   "metadata": {},
   "outputs": [],
   "source": [
    "# Load the TensorBoard notebook extension.\n",
    "# %reload_ext tensorboard\n",
    "%load_ext tensorboard"
   ]
  },
  {
   "cell_type": "markdown",
   "metadata": {},
   "source": [
    "## Generate a dataset"
   ]
  },
  {
   "cell_type": "markdown",
   "metadata": {},
   "source": [
    "In order to train a neural network we need to generate a training dataset which will consist of examples `x` (set of summation expressions) and labels `y` (set of correct answers for each expression). We will start with generating a set of _numbers_ (not strings so far) and than we will convert the sets of numbers into _strings_."
   ]
  },
  {
   "cell_type": "code",
   "execution_count": 4,
   "metadata": {},
   "outputs": [],
   "source": [
    "dataset_size = 5000\n",
    "sequence_length = 2\n",
    "max_num = 100"
   ]
  },
  {
   "cell_type": "code",
   "execution_count": 5,
   "metadata": {},
   "outputs": [],
   "source": [
    "# Generates summation sequences and summation results in form of vector if numbers.\n",
    "def generate_sums(dataset_size, sequence_length, max_num):\n",
    "    # Initial dataset states.\n",
    "    x, y = [], []\n",
    "    \n",
    "    # Generating sums.\n",
    "    for i in range(dataset_size):\n",
    "        sequence = [random.randint(1, max_num) for _ in range(sequence_length)]\n",
    "        x.append(sequence)\n",
    "        y.append(sum(sequence))\n",
    "    \n",
    "    return x, y"
   ]
  },
  {
   "cell_type": "code",
   "execution_count": 6,
   "metadata": {},
   "outputs": [
    {
     "name": "stdout",
     "output_type": "stream",
     "text": [
      "x_train:\n",
      " [[36, 86], [62, 86], [70, 43]]\n",
      "\n",
      "y_train:\n",
      " [122, 148, 113]\n"
     ]
    }
   ],
   "source": [
    "x_train, y_train = generate_sums(\n",
    "    dataset_size=dataset_size,\n",
    "    sequence_length=sequence_length,\n",
    "    max_num=max_num\n",
    ")\n",
    "\n",
    "print('x_train:\\n', x_train[:3])\n",
    "print()\n",
    "print('y_train:\\n', y_train[:3])"
   ]
  },
  {
   "cell_type": "markdown",
   "metadata": {},
   "source": [
    "Recurrent neural networks are normally deals with the sequences (of one or many elements) on the input. In order to treat a summation expression as a sequence we will convert array of numbers (i.e. `[[13, 8], [85, 91], ...]`) into strings (i.e. `['13+8   ', '85+91  ', ...]`). We also want to add a space `\" \"` paddings to each string to make them all of the same length. After doing that we will be able to feed our RNN character by character (i.e. `1`, then `3`, then `+`, then `8`, then ` ` and so on)."
   ]
  },
  {
   "cell_type": "code",
   "execution_count": 7,
   "metadata": {},
   "outputs": [],
   "source": [
    "# Convert array of numbers for x and y into strings.\n",
    "# Also it adds a space (\" \") padding to strings to make them of the same length. \n",
    "def dataset_to_strings(x, y, max_num):\n",
    "    # Initial dataset states.\n",
    "    x_str, y_str = [], []\n",
    "    \n",
    "    sequnce_length = len(x[0])\n",
    "    \n",
    "    # Calculate the maximum length of equation (x) string (i.e. of \"11+99\")\n",
    "    num_of_pluses = sequnce_length - 1\n",
    "    num_of_chars_per_digit = math.ceil(math.log10(max_num + 1))\n",
    "    max_x_length = sequnce_length * num_of_chars_per_digit + num_of_pluses\n",
    "    \n",
    "    # Calculate the maximum length of label (y) string (i.e. of \"167\")\n",
    "    max_y_length = math.ceil(math.log10(sequnce_length * (max_num + 1)))\n",
    "    \n",
    "    # Add a space \" \" padding to equation strings to make them of the same length.\n",
    "    for example in x:\n",
    "        str_example = '+'.join([str(digit) for digit in example])\n",
    "        str_example += ''.join([' ' for padding in range(max_x_length - len(str_example))])\n",
    "        x_str.append(str_example)\n",
    "    \n",
    "    # Add a space \" \" padding to labels strings to make them of the same length.\n",
    "    for label in y:\n",
    "        str_example = str(label)\n",
    "        str_example += ''.join([' ' for padding in range(max_y_length - len(str_example))])\n",
    "        y_str.append(str_example)\n",
    "    \n",
    "    return x_str, y_str"
   ]
  },
  {
   "cell_type": "code",
   "execution_count": 8,
   "metadata": {},
   "outputs": [
    {
     "name": "stdout",
     "output_type": "stream",
     "text": [
      "x_train_str:\n",
      " ['36+86  ' '62+86  ' '70+43  ']\n",
      "\n",
      "y_train_str:\n",
      " ['122' '148' '113']\n"
     ]
    }
   ],
   "source": [
    "x_train_str, y_train_str = dataset_to_strings(x_train, y_train, max_num)\n",
    "\n",
    "print('x_train_str:\\n', np.array(x_train_str[:3]))\n",
    "print()\n",
    "print('y_train_str:\\n', np.array(y_train_str[:3]))"
   ]
  },
  {
   "cell_type": "code",
   "execution_count": 9,
   "metadata": {},
   "outputs": [],
   "source": [
    "# Since we allow only numbers, plus sign and spaces the vocabulary looks pretty simple.\n",
    "vocabulary = ['0', '1', '2', '3', '4', '5', '6', '7', '8', '9', '+', ' ']"
   ]
  },
  {
   "cell_type": "code",
   "execution_count": 10,
   "metadata": {},
   "outputs": [
    {
     "name": "stdout",
     "output_type": "stream",
     "text": [
      "{'0': 0, '1': 1, '2': 2, '3': 3, '4': 4, '5': 5, '6': 6, '7': 7, '8': 8, '9': 9, '+': 10, ' ': 11}\n"
     ]
    }
   ],
   "source": [
    "# Python dictionary that will convert a character to its index in the vocabulary.\n",
    "char_to_index = {char: index for index, char in enumerate(vocabulary)}\n",
    "\n",
    "print(char_to_index)"
   ]
  },
  {
   "cell_type": "markdown",
   "metadata": {},
   "source": [
    "Our RNN need to have a digits as an input to operate with (and not a strings). To convert summation expressions strings into number the first step we will do is to convert each character of each string into the position index of this character in the `vocabulary`."
   ]
  },
  {
   "cell_type": "code",
   "execution_count": 11,
   "metadata": {},
   "outputs": [],
   "source": [
    "# Converts x and y arrays of strings into array of char indices.\n",
    "def dataset_to_indices(x, y, vocabulary):\n",
    "    x_encoded, y_encoded = [], []\n",
    "    \n",
    "    char_to_index = {char: index for index, char in enumerate(vocabulary)}\n",
    "    \n",
    "    for example in x:\n",
    "        example_encoded = [char_to_index[char] for char in example]\n",
    "        x_encoded.append(example_encoded)\n",
    "        \n",
    "    for label in y:\n",
    "        label_encoded = [char_to_index[char] for char in label]\n",
    "        y_encoded.append(label_encoded)\n",
    "        \n",
    "    return x_encoded, y_encoded"
   ]
  },
  {
   "cell_type": "code",
   "execution_count": 12,
   "metadata": {},
   "outputs": [
    {
     "name": "stdout",
     "output_type": "stream",
     "text": [
      "x_train_encoded:\n",
      " [[ 3  6 10  8  6 11 11]\n",
      " [ 6  2 10  8  6 11 11]\n",
      " [ 7  0 10  4  3 11 11]]\n",
      "\n",
      "y_train_encoded:\n",
      " [[1 2 2]\n",
      " [1 4 8]\n",
      " [1 1 3]]\n"
     ]
    }
   ],
   "source": [
    "x_train_encoded, y_train_encoded = dataset_to_indices(\n",
    "    x_train_str,\n",
    "    y_train_str,\n",
    "    vocabulary\n",
    ")\n",
    "\n",
    "print('x_train_encoded:\\n', np.array(x_train_encoded[:3]))\n",
    "print()\n",
    "print('y_train_encoded:\\n', np.array(y_train_encoded[:3]))"
   ]
  },
  {
   "cell_type": "markdown",
   "metadata": {},
   "source": [
    "To make our dataset even more understandable for our recurrent neural network we will convert each number into `0/1` [one-hot vector](https://en.wikipedia.org/wiki/One-hot) (i.e. number `1` will be transformed into array `[0 1 0 0 0 0 0 0 0 0 0 0]`)."
   ]
  },
  {
   "cell_type": "code",
   "execution_count": 13,
   "metadata": {},
   "outputs": [],
   "source": [
    "# Convert x and y sets of numbers into one-hot vectors.\n",
    "def dataset_to_one_hot(x, y, vocabulary):\n",
    "    x_encoded, y_encoded = [], []\n",
    "    \n",
    "    for example in x:\n",
    "        pattern = []\n",
    "        for index in example:\n",
    "            vector = [0 for _ in range(len(vocabulary))]\n",
    "            vector[index] = 1\n",
    "            pattern.append(vector)\n",
    "        x_encoded.append(pattern)\n",
    "            \n",
    "    for label in y:\n",
    "        pattern = []\n",
    "        for index in label:\n",
    "            vector = [0 for _ in range(len(vocabulary))]\n",
    "            vector[index] = 1\n",
    "            pattern.append(vector)\n",
    "        y_encoded.append(pattern)\n",
    "        \n",
    "    return x_encoded, y_encoded"
   ]
  },
  {
   "cell_type": "code",
   "execution_count": 14,
   "metadata": {},
   "outputs": [
    {
     "name": "stdout",
     "output_type": "stream",
     "text": [
      "x_train_one_hot:\n",
      " [[[0 0 0 1 0 0 0 0 0 0 0 0]\n",
      "  [0 0 0 0 0 0 1 0 0 0 0 0]\n",
      "  [0 0 0 0 0 0 0 0 0 0 1 0]\n",
      "  [0 0 0 0 0 0 0 0 1 0 0 0]\n",
      "  [0 0 0 0 0 0 1 0 0 0 0 0]\n",
      "  [0 0 0 0 0 0 0 0 0 0 0 1]\n",
      "  [0 0 0 0 0 0 0 0 0 0 0 1]]]\n",
      "\n",
      "y_train_one_hot:\n",
      " [[[0 1 0 0 0 0 0 0 0 0 0 0]\n",
      "  [0 0 1 0 0 0 0 0 0 0 0 0]\n",
      "  [0 0 1 0 0 0 0 0 0 0 0 0]]]\n"
     ]
    }
   ],
   "source": [
    "x_train_one_hot, y_train_one_hot = dataset_to_one_hot(\n",
    "    x_train_encoded,\n",
    "    y_train_encoded,\n",
    "    vocabulary\n",
    ")\n",
    "\n",
    "print('x_train_one_hot:\\n', np.array(x_train_one_hot[:1]))\n",
    "print()\n",
    "print('y_train_one_hot:\\n', np.array(y_train_one_hot[:1]))"
   ]
  },
  {
   "cell_type": "markdown",
   "metadata": {},
   "source": [
    "Now we may combine all the function together and create a one function that will do all the work to generate a dataset in the proper format for us."
   ]
  },
  {
   "cell_type": "code",
   "execution_count": 15,
   "metadata": {},
   "outputs": [],
   "source": [
    "# Generates a dataset.\n",
    "def generate_dataset(dataset_size, sequence_length, max_num, vocabulary):\n",
    "    # Generate integet sum sequences.\n",
    "    x, y = generate_sums(dataset_size, sequence_length, max_num)\n",
    "    # Convert integer sum sequences into strings.\n",
    "    x, y = dataset_to_strings(x, y, max_num)\n",
    "    # Encode each character to a char indices.\n",
    "    x, y = dataset_to_indices(x, y, vocabulary)\n",
    "    # Encode each index into one-hot vector.\n",
    "    x, y = dataset_to_one_hot(x, y, vocabulary)\n",
    "    # Return the data.\n",
    "    return np.array(x), np.array(y)"
   ]
  },
  {
   "cell_type": "code",
   "execution_count": 16,
   "metadata": {},
   "outputs": [
    {
     "name": "stdout",
     "output_type": "stream",
     "text": [
      "x:\n",
      " [[[0 0 0 0 0 0 0 0 0 1 0 0]\n",
      "  [0 0 0 1 0 0 0 0 0 0 0 0]\n",
      "  [0 0 0 0 0 0 0 0 0 0 1 0]\n",
      "  [0 0 0 0 0 0 1 0 0 0 0 0]\n",
      "  [0 0 0 1 0 0 0 0 0 0 0 0]\n",
      "  [0 0 0 0 0 0 0 0 0 0 0 1]\n",
      "  [0 0 0 0 0 0 0 0 0 0 0 1]]]\n",
      "\n",
      "y:\n",
      " [[[0 1 0 0 0 0 0 0 0 0 0 0]\n",
      "  [0 0 0 0 0 1 0 0 0 0 0 0]\n",
      "  [0 0 0 0 0 0 1 0 0 0 0 0]]]\n"
     ]
    }
   ],
   "source": [
    "x, y = generate_dataset(\n",
    "    dataset_size,\n",
    "    sequence_length,\n",
    "    max_num,\n",
    "    vocabulary\n",
    ")\n",
    "\n",
    "print('x:\\n', x[:1])\n",
    "print()\n",
    "print('y:\\n', y[:1])"
   ]
  },
  {
   "cell_type": "code",
   "execution_count": 17,
   "metadata": {},
   "outputs": [
    {
     "name": "stdout",
     "output_type": "stream",
     "text": [
      "x.shape:  (5000, 7, 12)\n",
      "y.shape:  (5000, 3, 12)\n"
     ]
    }
   ],
   "source": [
    "print('x.shape: ', x.shape) # (input_sequences_num, input_sequence_length, supported_symbols_num)\n",
    "print('y.shape: ', y.shape) # (output_sequences_num, output_sequence_length, supported_symbols_num)"
   ]
  },
  {
   "cell_type": "code",
   "execution_count": 18,
   "metadata": {},
   "outputs": [
    {
     "name": "stdout",
     "output_type": "stream",
     "text": [
      "input_sequence_length:  7\n",
      "output_sequence_length:  3\n",
      "supported_symbols_num:  12\n",
      "vocabulary_size:  12\n"
     ]
    }
   ],
   "source": [
    "# How many characters each summation expression has.\n",
    "input_sequence_length = x.shape[1]\n",
    "\n",
    "# How many characters the output sequence of the RNN has.\n",
    "output_sequence_length = y.shape[1]\n",
    "\n",
    "# The length of one-hot vector for each character in the input (should be the same as vocabulary_size).\n",
    "supported_symbols_num = x.shape[2]\n",
    "\n",
    "# The number of different characters our RNN network could work with (i.e. it understands only digits, \"+\" and \" \").\n",
    "vocabulary_size = len(vocabulary)\n",
    "\n",
    "print('input_sequence_length: ', input_sequence_length)\n",
    "print('output_sequence_length: ', output_sequence_length)\n",
    "print('supported_symbols_num: ', supported_symbols_num)\n",
    "print('vocabulary_size: ', vocabulary_size)"
   ]
  },
  {
   "cell_type": "code",
   "execution_count": 19,
   "metadata": {},
   "outputs": [],
   "source": [
    "# Converts a sequence (array) of one-hot encoded vectors back into the string based on the provided vocabulary.\n",
    "def decode(sequence, vocabulary):\n",
    "    index_to_char = {index: char for index, char in enumerate(vocabulary)}\n",
    "    strings = []\n",
    "    for char_vector in sequence:\n",
    "        char = index_to_char[np.argmax(char_vector)]\n",
    "        strings.append(char)\n",
    "    return ''.join(strings)"
   ]
  },
  {
   "cell_type": "code",
   "execution_count": 20,
   "metadata": {},
   "outputs": [
    {
     "data": {
      "text/plain": [
       "'156'"
      ]
     },
     "execution_count": 20,
     "metadata": {},
     "output_type": "execute_result"
    }
   ],
   "source": [
    "decode(y[0], vocabulary)"
   ]
  },
  {
   "cell_type": "markdown",
   "metadata": {},
   "source": [
    "## Build a model"
   ]
  },
  {
   "cell_type": "markdown",
   "metadata": {},
   "source": [
    "We will use a [Sequential] TensorFlow model with [LSTM](https://www.tensorflow.org/api_docs/python/tf/keras/layers/LSTM) layers. Logically our model will consist of **encoder** and **decoder**. _Encoder_ will encode the input expression into an array of numbers. And then _decoder_ will try to build an output result sequence by decoding the array of numbers from encoder."
   ]
  },
  {
   "cell_type": "code",
   "execution_count": 21,
   "metadata": {},
   "outputs": [],
   "source": [
    "epochs_num = 200\n",
    "batch_size = 128"
   ]
  },
  {
   "cell_type": "code",
   "execution_count": 22,
   "metadata": {},
   "outputs": [
    {
     "name": "stderr",
     "output_type": "stream",
     "text": [
      "C:\\Users\\marci\\AppData\\Local\\Packages\\PythonSoftwareFoundation.Python.3.11_qbz5n2kfra8p0\\LocalCache\\local-packages\\Python311\\site-packages\\keras\\src\\layers\\rnn\\rnn.py:204: UserWarning: Do not pass an `input_shape`/`input_dim` argument to a layer. When using Sequential models, prefer using an `Input(shape)` object as the first layer in the model instead.\n",
      "  super().__init__(**kwargs)\n"
     ]
    }
   ],
   "source": [
    "model = tf.keras.models.Sequential()\n",
    "\n",
    "# Encoder\n",
    "# -------\n",
    "\n",
    "model.add(tf.keras.layers.LSTM(\n",
    "    units=128,\n",
    "    input_shape=(input_sequence_length, vocabulary_size),\n",
    "    recurrent_initializer=tf.keras.initializers.GlorotNormal()\n",
    "))\n",
    "\n",
    "# Decoder\n",
    "# -------\n",
    "\n",
    "# We need this layer to match the encoder output shape with decoder input shape.\n",
    "# Encoder outputs ONE vector of numbers but for decoder we need have output_sequence_length vectors.\n",
    "model.add(tf.keras.layers.RepeatVector(\n",
    "    n=output_sequence_length,\n",
    "))\n",
    "\n",
    "model.add(tf.keras.layers.LSTM(\n",
    "    units=128,\n",
    "    return_sequences=True,\n",
    "    recurrent_initializer=tf.keras.initializers.GlorotNormal()\n",
    "))\n",
    "\n",
    "model.add(tf.keras.layers.TimeDistributed(\n",
    "    layer=tf.keras.layers.Dense(\n",
    "        units=vocabulary_size,\n",
    "    )\n",
    "))\n",
    "\n",
    "model.add(tf.keras.layers.Activation(\n",
    "    activation='softmax'\n",
    "))"
   ]
  },
  {
   "cell_type": "code",
   "execution_count": 23,
   "metadata": {},
   "outputs": [
    {
     "data": {
      "text/html": [
       "<pre style=\"white-space:pre;overflow-x:auto;line-height:normal;font-family:Menlo,'DejaVu Sans Mono',consolas,'Courier New',monospace\"><span style=\"font-weight: bold\">Model: \"sequential\"</span>\n",
       "</pre>\n"
      ],
      "text/plain": [
       "\u001b[1mModel: \"sequential\"\u001b[0m\n"
      ]
     },
     "metadata": {},
     "output_type": "display_data"
    },
    {
     "data": {
      "text/html": [
       "<pre style=\"white-space:pre;overflow-x:auto;line-height:normal;font-family:Menlo,'DejaVu Sans Mono',consolas,'Courier New',monospace\">┏━━━━━━━━━━━━━━━━━━━━━━━━━━━━━━━━━┳━━━━━━━━━━━━━━━━━━━━━━━━┳━━━━━━━━━━━━━━━┓\n",
       "┃<span style=\"font-weight: bold\"> Layer (type)                    </span>┃<span style=\"font-weight: bold\"> Output Shape           </span>┃<span style=\"font-weight: bold\">       Param # </span>┃\n",
       "┡━━━━━━━━━━━━━━━━━━━━━━━━━━━━━━━━━╇━━━━━━━━━━━━━━━━━━━━━━━━╇━━━━━━━━━━━━━━━┩\n",
       "│ lstm (<span style=\"color: #0087ff; text-decoration-color: #0087ff\">LSTM</span>)                     │ (<span style=\"color: #00d7ff; text-decoration-color: #00d7ff\">None</span>, <span style=\"color: #00af00; text-decoration-color: #00af00\">128</span>)            │        <span style=\"color: #00af00; text-decoration-color: #00af00\">72,192</span> │\n",
       "├─────────────────────────────────┼────────────────────────┼───────────────┤\n",
       "│ repeat_vector (<span style=\"color: #0087ff; text-decoration-color: #0087ff\">RepeatVector</span>)    │ (<span style=\"color: #00d7ff; text-decoration-color: #00d7ff\">None</span>, <span style=\"color: #00af00; text-decoration-color: #00af00\">3</span>, <span style=\"color: #00af00; text-decoration-color: #00af00\">128</span>)         │             <span style=\"color: #00af00; text-decoration-color: #00af00\">0</span> │\n",
       "├─────────────────────────────────┼────────────────────────┼───────────────┤\n",
       "│ lstm_1 (<span style=\"color: #0087ff; text-decoration-color: #0087ff\">LSTM</span>)                   │ (<span style=\"color: #00d7ff; text-decoration-color: #00d7ff\">None</span>, <span style=\"color: #00af00; text-decoration-color: #00af00\">3</span>, <span style=\"color: #00af00; text-decoration-color: #00af00\">128</span>)         │       <span style=\"color: #00af00; text-decoration-color: #00af00\">131,584</span> │\n",
       "├─────────────────────────────────┼────────────────────────┼───────────────┤\n",
       "│ time_distributed                │ (<span style=\"color: #00d7ff; text-decoration-color: #00d7ff\">None</span>, <span style=\"color: #00af00; text-decoration-color: #00af00\">3</span>, <span style=\"color: #00af00; text-decoration-color: #00af00\">12</span>)          │         <span style=\"color: #00af00; text-decoration-color: #00af00\">1,548</span> │\n",
       "│ (<span style=\"color: #0087ff; text-decoration-color: #0087ff\">TimeDistributed</span>)               │                        │               │\n",
       "├─────────────────────────────────┼────────────────────────┼───────────────┤\n",
       "│ activation (<span style=\"color: #0087ff; text-decoration-color: #0087ff\">Activation</span>)         │ (<span style=\"color: #00d7ff; text-decoration-color: #00d7ff\">None</span>, <span style=\"color: #00af00; text-decoration-color: #00af00\">3</span>, <span style=\"color: #00af00; text-decoration-color: #00af00\">12</span>)          │             <span style=\"color: #00af00; text-decoration-color: #00af00\">0</span> │\n",
       "└─────────────────────────────────┴────────────────────────┴───────────────┘\n",
       "</pre>\n"
      ],
      "text/plain": [
       "┏━━━━━━━━━━━━━━━━━━━━━━━━━━━━━━━━━┳━━━━━━━━━━━━━━━━━━━━━━━━┳━━━━━━━━━━━━━━━┓\n",
       "┃\u001b[1m \u001b[0m\u001b[1mLayer (type)                   \u001b[0m\u001b[1m \u001b[0m┃\u001b[1m \u001b[0m\u001b[1mOutput Shape          \u001b[0m\u001b[1m \u001b[0m┃\u001b[1m \u001b[0m\u001b[1m      Param #\u001b[0m\u001b[1m \u001b[0m┃\n",
       "┡━━━━━━━━━━━━━━━━━━━━━━━━━━━━━━━━━╇━━━━━━━━━━━━━━━━━━━━━━━━╇━━━━━━━━━━━━━━━┩\n",
       "│ lstm (\u001b[38;5;33mLSTM\u001b[0m)                     │ (\u001b[38;5;45mNone\u001b[0m, \u001b[38;5;34m128\u001b[0m)            │        \u001b[38;5;34m72,192\u001b[0m │\n",
       "├─────────────────────────────────┼────────────────────────┼───────────────┤\n",
       "│ repeat_vector (\u001b[38;5;33mRepeatVector\u001b[0m)    │ (\u001b[38;5;45mNone\u001b[0m, \u001b[38;5;34m3\u001b[0m, \u001b[38;5;34m128\u001b[0m)         │             \u001b[38;5;34m0\u001b[0m │\n",
       "├─────────────────────────────────┼────────────────────────┼───────────────┤\n",
       "│ lstm_1 (\u001b[38;5;33mLSTM\u001b[0m)                   │ (\u001b[38;5;45mNone\u001b[0m, \u001b[38;5;34m3\u001b[0m, \u001b[38;5;34m128\u001b[0m)         │       \u001b[38;5;34m131,584\u001b[0m │\n",
       "├─────────────────────────────────┼────────────────────────┼───────────────┤\n",
       "│ time_distributed                │ (\u001b[38;5;45mNone\u001b[0m, \u001b[38;5;34m3\u001b[0m, \u001b[38;5;34m12\u001b[0m)          │         \u001b[38;5;34m1,548\u001b[0m │\n",
       "│ (\u001b[38;5;33mTimeDistributed\u001b[0m)               │                        │               │\n",
       "├─────────────────────────────────┼────────────────────────┼───────────────┤\n",
       "│ activation (\u001b[38;5;33mActivation\u001b[0m)         │ (\u001b[38;5;45mNone\u001b[0m, \u001b[38;5;34m3\u001b[0m, \u001b[38;5;34m12\u001b[0m)          │             \u001b[38;5;34m0\u001b[0m │\n",
       "└─────────────────────────────────┴────────────────────────┴───────────────┘\n"
      ]
     },
     "metadata": {},
     "output_type": "display_data"
    },
    {
     "data": {
      "text/html": [
       "<pre style=\"white-space:pre;overflow-x:auto;line-height:normal;font-family:Menlo,'DejaVu Sans Mono',consolas,'Courier New',monospace\"><span style=\"font-weight: bold\"> Total params: </span><span style=\"color: #00af00; text-decoration-color: #00af00\">205,324</span> (802.05 KB)\n",
       "</pre>\n"
      ],
      "text/plain": [
       "\u001b[1m Total params: \u001b[0m\u001b[38;5;34m205,324\u001b[0m (802.05 KB)\n"
      ]
     },
     "metadata": {},
     "output_type": "display_data"
    },
    {
     "data": {
      "text/html": [
       "<pre style=\"white-space:pre;overflow-x:auto;line-height:normal;font-family:Menlo,'DejaVu Sans Mono',consolas,'Courier New',monospace\"><span style=\"font-weight: bold\"> Trainable params: </span><span style=\"color: #00af00; text-decoration-color: #00af00\">205,324</span> (802.05 KB)\n",
       "</pre>\n"
      ],
      "text/plain": [
       "\u001b[1m Trainable params: \u001b[0m\u001b[38;5;34m205,324\u001b[0m (802.05 KB)\n"
      ]
     },
     "metadata": {},
     "output_type": "display_data"
    },
    {
     "data": {
      "text/html": [
       "<pre style=\"white-space:pre;overflow-x:auto;line-height:normal;font-family:Menlo,'DejaVu Sans Mono',consolas,'Courier New',monospace\"><span style=\"font-weight: bold\"> Non-trainable params: </span><span style=\"color: #00af00; text-decoration-color: #00af00\">0</span> (0.00 B)\n",
       "</pre>\n"
      ],
      "text/plain": [
       "\u001b[1m Non-trainable params: \u001b[0m\u001b[38;5;34m0\u001b[0m (0.00 B)\n"
      ]
     },
     "metadata": {},
     "output_type": "display_data"
    }
   ],
   "source": [
    "model.summary()"
   ]
  },
  {
   "cell_type": "code",
   "execution_count": 24,
   "metadata": {},
   "outputs": [
    {
     "name": "stdout",
     "output_type": "stream",
     "text": [
      "You must install graphviz (see instructions at https://graphviz.gitlab.io/download/) for `plot_model` to work.\n"
     ]
    }
   ],
   "source": [
    "tf.keras.utils.plot_model(\n",
    "    model,\n",
    "    show_shapes=True,\n",
    "    show_layer_names=True,\n",
    ")"
   ]
  },
  {
   "cell_type": "markdown",
   "metadata": {},
   "source": [
    "## Train a model"
   ]
  },
  {
   "cell_type": "code",
   "execution_count": 25,
   "metadata": {},
   "outputs": [],
   "source": [
    "log_dir=\".logs/fit/\" + datetime.datetime.now().strftime(\"%Y%m%d-%H%M%S\")\n",
    "tensorboard_callback = tf.keras.callbacks.TensorBoard(log_dir=log_dir, histogram_freq=1)"
   ]
  },
  {
   "cell_type": "code",
   "execution_count": 26,
   "metadata": {},
   "outputs": [],
   "source": [
    "adam_optimizer = tf.keras.optimizers.Adam(learning_rate=0.001)\n",
    "model.compile(\n",
    "    optimizer=adam_optimizer,\n",
    "    loss=tf.keras.losses.categorical_crossentropy,\n",
    "    metrics=['accuracy'],\n",
    ")"
   ]
  },
  {
   "cell_type": "code",
   "execution_count": 27,
   "metadata": {},
   "outputs": [
    {
     "name": "stdout",
     "output_type": "stream",
     "text": [
      "Epoch 1/200\n",
      "\u001b[1m36/36\u001b[0m \u001b[32m━━━━━━━━━━━━━━━━━━━━\u001b[0m\u001b[37m\u001b[0m \u001b[1m3s\u001b[0m 24ms/step - accuracy: 0.2192 - loss: 2.3926 - val_accuracy: 0.3740 - val_loss: 2.1018\n",
      "Epoch 2/200\n",
      "\u001b[1m36/36\u001b[0m \u001b[32m━━━━━━━━━━━━━━━━━━━━\u001b[0m\u001b[37m\u001b[0m \u001b[1m0s\u001b[0m 9ms/step - accuracy: 0.3820 - loss: 1.9850 - val_accuracy: 0.3807 - val_loss: 1.8777\n",
      "Epoch 3/200\n",
      "\u001b[1m36/36\u001b[0m \u001b[32m━━━━━━━━━━━━━━━━━━━━\u001b[0m\u001b[37m\u001b[0m \u001b[1m0s\u001b[0m 9ms/step - accuracy: 0.3778 - loss: 1.8327 - val_accuracy: 0.3800 - val_loss: 1.7842\n",
      "Epoch 4/200\n",
      "\u001b[1m36/36\u001b[0m \u001b[32m━━━━━━━━━━━━━━━━━━━━\u001b[0m\u001b[37m\u001b[0m \u001b[1m1s\u001b[0m 23ms/step - accuracy: 0.3863 - loss: 1.7615 - val_accuracy: 0.3947 - val_loss: 1.7422\n",
      "Epoch 5/200\n",
      "\u001b[1m36/36\u001b[0m \u001b[32m━━━━━━━━━━━━━━━━━━━━\u001b[0m\u001b[37m\u001b[0m \u001b[1m0s\u001b[0m 9ms/step - accuracy: 0.3983 - loss: 1.7132 - val_accuracy: 0.4007 - val_loss: 1.6949\n",
      "Epoch 6/200\n",
      "\u001b[1m36/36\u001b[0m \u001b[32m━━━━━━━━━━━━━━━━━━━━\u001b[0m\u001b[37m\u001b[0m \u001b[1m0s\u001b[0m 9ms/step - accuracy: 0.4075 - loss: 1.6956 - val_accuracy: 0.4020 - val_loss: 1.6882\n",
      "Epoch 7/200\n",
      "\u001b[1m36/36\u001b[0m \u001b[32m━━━━━━━━━━━━━━━━━━━━\u001b[0m\u001b[37m\u001b[0m \u001b[1m0s\u001b[0m 9ms/step - accuracy: 0.4101 - loss: 1.6611 - val_accuracy: 0.4020 - val_loss: 1.6534\n",
      "Epoch 8/200\n",
      "\u001b[1m36/36\u001b[0m \u001b[32m━━━━━━━━━━━━━━━━━━━━\u001b[0m\u001b[37m\u001b[0m \u001b[1m0s\u001b[0m 8ms/step - accuracy: 0.4072 - loss: 1.6517 - val_accuracy: 0.4120 - val_loss: 1.6602\n",
      "Epoch 9/200\n",
      "\u001b[1m36/36\u001b[0m \u001b[32m━━━━━━━━━━━━━━━━━━━━\u001b[0m\u001b[37m\u001b[0m \u001b[1m0s\u001b[0m 9ms/step - accuracy: 0.4180 - loss: 1.6251 - val_accuracy: 0.4020 - val_loss: 1.7453\n",
      "Epoch 10/200\n",
      "\u001b[1m36/36\u001b[0m \u001b[32m━━━━━━━━━━━━━━━━━━━━\u001b[0m\u001b[37m\u001b[0m \u001b[1m0s\u001b[0m 9ms/step - accuracy: 0.4185 - loss: 1.6283 - val_accuracy: 0.4280 - val_loss: 1.6172\n",
      "Epoch 11/200\n",
      "\u001b[1m36/36\u001b[0m \u001b[32m━━━━━━━━━━━━━━━━━━━━\u001b[0m\u001b[37m\u001b[0m \u001b[1m0s\u001b[0m 8ms/step - accuracy: 0.4234 - loss: 1.5817 - val_accuracy: 0.4240 - val_loss: 1.6017\n",
      "Epoch 12/200\n",
      "\u001b[1m36/36\u001b[0m \u001b[32m━━━━━━━━━━━━━━━━━━━━\u001b[0m\u001b[37m\u001b[0m \u001b[1m0s\u001b[0m 8ms/step - accuracy: 0.4437 - loss: 1.5132 - val_accuracy: 0.4587 - val_loss: 1.4808\n",
      "Epoch 13/200\n",
      "\u001b[1m36/36\u001b[0m \u001b[32m━━━━━━━━━━━━━━━━━━━━\u001b[0m\u001b[37m\u001b[0m \u001b[1m0s\u001b[0m 9ms/step - accuracy: 0.4519 - loss: 1.4574 - val_accuracy: 0.4720 - val_loss: 1.4975\n",
      "Epoch 14/200\n",
      "\u001b[1m36/36\u001b[0m \u001b[32m━━━━━━━━━━━━━━━━━━━━\u001b[0m\u001b[37m\u001b[0m \u001b[1m0s\u001b[0m 9ms/step - accuracy: 0.4646 - loss: 1.4277 - val_accuracy: 0.4473 - val_loss: 1.4328\n",
      "Epoch 15/200\n",
      "\u001b[1m36/36\u001b[0m \u001b[32m━━━━━━━━━━━━━━━━━━━━\u001b[0m\u001b[37m\u001b[0m \u001b[1m0s\u001b[0m 9ms/step - accuracy: 0.4814 - loss: 1.3658 - val_accuracy: 0.5327 - val_loss: 1.3186\n",
      "Epoch 16/200\n",
      "\u001b[1m36/36\u001b[0m \u001b[32m━━━━━━━━━━━━━━━━━━━━\u001b[0m\u001b[37m\u001b[0m \u001b[1m0s\u001b[0m 8ms/step - accuracy: 0.5042 - loss: 1.3187 - val_accuracy: 0.5387 - val_loss: 1.2724\n",
      "Epoch 17/200\n",
      "\u001b[1m36/36\u001b[0m \u001b[32m━━━━━━━━━━━━━━━━━━━━\u001b[0m\u001b[37m\u001b[0m \u001b[1m0s\u001b[0m 9ms/step - accuracy: 0.5258 - loss: 1.2714 - val_accuracy: 0.5553 - val_loss: 1.2500\n",
      "Epoch 18/200\n",
      "\u001b[1m36/36\u001b[0m \u001b[32m━━━━━━━━━━━━━━━━━━━━\u001b[0m\u001b[37m\u001b[0m \u001b[1m0s\u001b[0m 9ms/step - accuracy: 0.5432 - loss: 1.2310 - val_accuracy: 0.4900 - val_loss: 1.2750\n",
      "Epoch 19/200\n",
      "\u001b[1m36/36\u001b[0m \u001b[32m━━━━━━━━━━━━━━━━━━━━\u001b[0m\u001b[37m\u001b[0m \u001b[1m0s\u001b[0m 9ms/step - accuracy: 0.5370 - loss: 1.2272 - val_accuracy: 0.5727 - val_loss: 1.1867\n",
      "Epoch 20/200\n",
      "\u001b[1m36/36\u001b[0m \u001b[32m━━━━━━━━━━━━━━━━━━━━\u001b[0m\u001b[37m\u001b[0m \u001b[1m0s\u001b[0m 9ms/step - accuracy: 0.5727 - loss: 1.1708 - val_accuracy: 0.5813 - val_loss: 1.1936\n",
      "Epoch 21/200\n",
      "\u001b[1m36/36\u001b[0m \u001b[32m━━━━━━━━━━━━━━━━━━━━\u001b[0m\u001b[37m\u001b[0m \u001b[1m0s\u001b[0m 9ms/step - accuracy: 0.5701 - loss: 1.1724 - val_accuracy: 0.5347 - val_loss: 1.2681\n",
      "Epoch 22/200\n",
      "\u001b[1m36/36\u001b[0m \u001b[32m━━━━━━━━━━━━━━━━━━━━\u001b[0m\u001b[37m\u001b[0m \u001b[1m0s\u001b[0m 9ms/step - accuracy: 0.5741 - loss: 1.1517 - val_accuracy: 0.5240 - val_loss: 1.2591\n",
      "Epoch 23/200\n",
      "\u001b[1m36/36\u001b[0m \u001b[32m━━━━━━━━━━━━━━━━━━━━\u001b[0m\u001b[37m\u001b[0m \u001b[1m0s\u001b[0m 8ms/step - accuracy: 0.5791 - loss: 1.1283 - val_accuracy: 0.5973 - val_loss: 1.1044\n",
      "Epoch 24/200\n",
      "\u001b[1m36/36\u001b[0m \u001b[32m━━━━━━━━━━━━━━━━━━━━\u001b[0m\u001b[37m\u001b[0m \u001b[1m0s\u001b[0m 9ms/step - accuracy: 0.6163 - loss: 1.0829 - val_accuracy: 0.5973 - val_loss: 1.1330\n",
      "Epoch 25/200\n",
      "\u001b[1m36/36\u001b[0m \u001b[32m━━━━━━━━━━━━━━━━━━━━\u001b[0m\u001b[37m\u001b[0m \u001b[1m0s\u001b[0m 9ms/step - accuracy: 0.6101 - loss: 1.0723 - val_accuracy: 0.5733 - val_loss: 1.1161\n",
      "Epoch 26/200\n",
      "\u001b[1m36/36\u001b[0m \u001b[32m━━━━━━━━━━━━━━━━━━━━\u001b[0m\u001b[37m\u001b[0m \u001b[1m0s\u001b[0m 9ms/step - accuracy: 0.6169 - loss: 1.0630 - val_accuracy: 0.5060 - val_loss: 1.2259\n",
      "Epoch 27/200\n",
      "\u001b[1m36/36\u001b[0m \u001b[32m━━━━━━━━━━━━━━━━━━━━\u001b[0m\u001b[37m\u001b[0m \u001b[1m0s\u001b[0m 9ms/step - accuracy: 0.5971 - loss: 1.0877 - val_accuracy: 0.6293 - val_loss: 1.0480\n",
      "Epoch 28/200\n",
      "\u001b[1m36/36\u001b[0m \u001b[32m━━━━━━━━━━━━━━━━━━━━\u001b[0m\u001b[37m\u001b[0m \u001b[1m0s\u001b[0m 9ms/step - accuracy: 0.6253 - loss: 1.0387 - val_accuracy: 0.6347 - val_loss: 1.0311\n",
      "Epoch 29/200\n",
      "\u001b[1m36/36\u001b[0m \u001b[32m━━━━━━━━━━━━━━━━━━━━\u001b[0m\u001b[37m\u001b[0m \u001b[1m0s\u001b[0m 8ms/step - accuracy: 0.6219 - loss: 1.0275 - val_accuracy: 0.6260 - val_loss: 1.0161\n",
      "Epoch 30/200\n",
      "\u001b[1m36/36\u001b[0m \u001b[32m━━━━━━━━━━━━━━━━━━━━\u001b[0m\u001b[37m\u001b[0m \u001b[1m0s\u001b[0m 9ms/step - accuracy: 0.6406 - loss: 0.9950 - val_accuracy: 0.6227 - val_loss: 1.0375\n",
      "Epoch 31/200\n",
      "\u001b[1m36/36\u001b[0m \u001b[32m━━━━━━━━━━━━━━━━━━━━\u001b[0m\u001b[37m\u001b[0m \u001b[1m0s\u001b[0m 9ms/step - accuracy: 0.6180 - loss: 1.0374 - val_accuracy: 0.6147 - val_loss: 1.0466\n",
      "Epoch 32/200\n",
      "\u001b[1m36/36\u001b[0m \u001b[32m━━━━━━━━━━━━━━━━━━━━\u001b[0m\u001b[37m\u001b[0m \u001b[1m0s\u001b[0m 9ms/step - accuracy: 0.6334 - loss: 1.0006 - val_accuracy: 0.6373 - val_loss: 0.9941\n",
      "Epoch 33/200\n",
      "\u001b[1m36/36\u001b[0m \u001b[32m━━━━━━━━━━━━━━━━━━━━\u001b[0m\u001b[37m\u001b[0m \u001b[1m0s\u001b[0m 9ms/step - accuracy: 0.6622 - loss: 0.9576 - val_accuracy: 0.6327 - val_loss: 0.9829\n",
      "Epoch 34/200\n",
      "\u001b[1m36/36\u001b[0m \u001b[32m━━━━━━━━━━━━━━━━━━━━\u001b[0m\u001b[37m\u001b[0m \u001b[1m0s\u001b[0m 8ms/step - accuracy: 0.6626 - loss: 0.9474 - val_accuracy: 0.6360 - val_loss: 1.0011\n",
      "Epoch 35/200\n",
      "\u001b[1m36/36\u001b[0m \u001b[32m━━━━━━━━━━━━━━━━━━━━\u001b[0m\u001b[37m\u001b[0m \u001b[1m0s\u001b[0m 9ms/step - accuracy: 0.6516 - loss: 0.9593 - val_accuracy: 0.6740 - val_loss: 0.9436\n",
      "Epoch 36/200\n",
      "\u001b[1m36/36\u001b[0m \u001b[32m━━━━━━━━━━━━━━━━━━━━\u001b[0m\u001b[37m\u001b[0m \u001b[1m0s\u001b[0m 9ms/step - accuracy: 0.6756 - loss: 0.9185 - val_accuracy: 0.6513 - val_loss: 0.9598\n",
      "Epoch 37/200\n",
      "\u001b[1m36/36\u001b[0m \u001b[32m━━━━━━━━━━━━━━━━━━━━\u001b[0m\u001b[37m\u001b[0m \u001b[1m0s\u001b[0m 8ms/step - accuracy: 0.6659 - loss: 0.9266 - val_accuracy: 0.6673 - val_loss: 0.9282\n",
      "Epoch 38/200\n",
      "\u001b[1m36/36\u001b[0m \u001b[32m━━━━━━━━━━━━━━━━━━━━\u001b[0m\u001b[37m\u001b[0m \u001b[1m0s\u001b[0m 9ms/step - accuracy: 0.6851 - loss: 0.8915 - val_accuracy: 0.6813 - val_loss: 0.9264\n",
      "Epoch 39/200\n",
      "\u001b[1m36/36\u001b[0m \u001b[32m━━━━━━━━━━━━━━━━━━━━\u001b[0m\u001b[37m\u001b[0m \u001b[1m0s\u001b[0m 8ms/step - accuracy: 0.6873 - loss: 0.8813 - val_accuracy: 0.6647 - val_loss: 0.9225\n",
      "Epoch 40/200\n",
      "\u001b[1m36/36\u001b[0m \u001b[32m━━━━━━━━━━━━━━━━━━━━\u001b[0m\u001b[37m\u001b[0m \u001b[1m0s\u001b[0m 9ms/step - accuracy: 0.6925 - loss: 0.8687 - val_accuracy: 0.6693 - val_loss: 0.9107\n",
      "Epoch 41/200\n",
      "\u001b[1m36/36\u001b[0m \u001b[32m━━━━━━━━━━━━━━━━━━━━\u001b[0m\u001b[37m\u001b[0m \u001b[1m0s\u001b[0m 8ms/step - accuracy: 0.6801 - loss: 0.8846 - val_accuracy: 0.6833 - val_loss: 0.8658\n",
      "Epoch 42/200\n",
      "\u001b[1m36/36\u001b[0m \u001b[32m━━━━━━━━━━━━━━━━━━━━\u001b[0m\u001b[37m\u001b[0m \u001b[1m0s\u001b[0m 9ms/step - accuracy: 0.7012 - loss: 0.8407 - val_accuracy: 0.6920 - val_loss: 0.8628\n",
      "Epoch 43/200\n",
      "\u001b[1m36/36\u001b[0m \u001b[32m━━━━━━━━━━━━━━━━━━━━\u001b[0m\u001b[37m\u001b[0m \u001b[1m0s\u001b[0m 8ms/step - accuracy: 0.7017 - loss: 0.8371 - val_accuracy: 0.6687 - val_loss: 0.8873\n",
      "Epoch 44/200\n",
      "\u001b[1m36/36\u001b[0m \u001b[32m━━━━━━━━━━━━━━━━━━━━\u001b[0m\u001b[37m\u001b[0m \u001b[1m0s\u001b[0m 9ms/step - accuracy: 0.7129 - loss: 0.8160 - val_accuracy: 0.6973 - val_loss: 0.8193\n",
      "Epoch 45/200\n",
      "\u001b[1m36/36\u001b[0m \u001b[32m━━━━━━━━━━━━━━━━━━━━\u001b[0m\u001b[37m\u001b[0m \u001b[1m0s\u001b[0m 9ms/step - accuracy: 0.7189 - loss: 0.7935 - val_accuracy: 0.6860 - val_loss: 0.8312\n",
      "Epoch 46/200\n",
      "\u001b[1m36/36\u001b[0m \u001b[32m━━━━━━━━━━━━━━━━━━━━\u001b[0m\u001b[37m\u001b[0m \u001b[1m0s\u001b[0m 9ms/step - accuracy: 0.7272 - loss: 0.7679 - val_accuracy: 0.7273 - val_loss: 0.7627\n",
      "Epoch 47/200\n",
      "\u001b[1m36/36\u001b[0m \u001b[32m━━━━━━━━━━━━━━━━━━━━\u001b[0m\u001b[37m\u001b[0m \u001b[1m0s\u001b[0m 9ms/step - accuracy: 0.7416 - loss: 0.7350 - val_accuracy: 0.7367 - val_loss: 0.7463\n",
      "Epoch 48/200\n",
      "\u001b[1m36/36\u001b[0m \u001b[32m━━━━━━━━━━━━━━━━━━━━\u001b[0m\u001b[37m\u001b[0m \u001b[1m0s\u001b[0m 9ms/step - accuracy: 0.7532 - loss: 0.7080 - val_accuracy: 0.6153 - val_loss: 0.9247\n",
      "Epoch 49/200\n",
      "\u001b[1m36/36\u001b[0m \u001b[32m━━━━━━━━━━━━━━━━━━━━\u001b[0m\u001b[37m\u001b[0m \u001b[1m0s\u001b[0m 9ms/step - accuracy: 0.7180 - loss: 0.7559 - val_accuracy: 0.7420 - val_loss: 0.6945\n",
      "Epoch 50/200\n",
      "\u001b[1m36/36\u001b[0m \u001b[32m━━━━━━━━━━━━━━━━━━━━\u001b[0m\u001b[37m\u001b[0m \u001b[1m0s\u001b[0m 8ms/step - accuracy: 0.7762 - loss: 0.6561 - val_accuracy: 0.7820 - val_loss: 0.6328\n",
      "Epoch 51/200\n",
      "\u001b[1m36/36\u001b[0m \u001b[32m━━━━━━━━━━━━━━━━━━━━\u001b[0m\u001b[37m\u001b[0m \u001b[1m0s\u001b[0m 9ms/step - accuracy: 0.7970 - loss: 0.6031 - val_accuracy: 0.7887 - val_loss: 0.6070\n",
      "Epoch 52/200\n",
      "\u001b[1m36/36\u001b[0m \u001b[32m━━━━━━━━━━━━━━━━━━━━\u001b[0m\u001b[37m\u001b[0m \u001b[1m0s\u001b[0m 9ms/step - accuracy: 0.8146 - loss: 0.5660 - val_accuracy: 0.8040 - val_loss: 0.5693\n",
      "Epoch 53/200\n",
      "\u001b[1m36/36\u001b[0m \u001b[32m━━━━━━━━━━━━━━━━━━━━\u001b[0m\u001b[37m\u001b[0m \u001b[1m0s\u001b[0m 9ms/step - accuracy: 0.8192 - loss: 0.5473 - val_accuracy: 0.8120 - val_loss: 0.5576\n",
      "Epoch 54/200\n",
      "\u001b[1m36/36\u001b[0m \u001b[32m━━━━━━━━━━━━━━━━━━━━\u001b[0m\u001b[37m\u001b[0m \u001b[1m0s\u001b[0m 9ms/step - accuracy: 0.8360 - loss: 0.5142 - val_accuracy: 0.7940 - val_loss: 0.5758\n",
      "Epoch 55/200\n",
      "\u001b[1m36/36\u001b[0m \u001b[32m━━━━━━━━━━━━━━━━━━━━\u001b[0m\u001b[37m\u001b[0m \u001b[1m0s\u001b[0m 9ms/step - accuracy: 0.8395 - loss: 0.4954 - val_accuracy: 0.8540 - val_loss: 0.4764\n",
      "Epoch 56/200\n",
      "\u001b[1m36/36\u001b[0m \u001b[32m━━━━━━━━━━━━━━━━━━━━\u001b[0m\u001b[37m\u001b[0m \u001b[1m0s\u001b[0m 9ms/step - accuracy: 0.8774 - loss: 0.4328 - val_accuracy: 0.8553 - val_loss: 0.4575\n",
      "Epoch 57/200\n",
      "\u001b[1m36/36\u001b[0m \u001b[32m━━━━━━━━━━━━━━━━━━━━\u001b[0m\u001b[37m\u001b[0m \u001b[1m0s\u001b[0m 9ms/step - accuracy: 0.8910 - loss: 0.4066 - val_accuracy: 0.8660 - val_loss: 0.4367\n",
      "Epoch 58/200\n",
      "\u001b[1m36/36\u001b[0m \u001b[32m━━━━━━━━━━━━━━━━━━━━\u001b[0m\u001b[37m\u001b[0m \u001b[1m0s\u001b[0m 8ms/step - accuracy: 0.8924 - loss: 0.3998 - val_accuracy: 0.8920 - val_loss: 0.3864\n",
      "Epoch 59/200\n",
      "\u001b[1m36/36\u001b[0m \u001b[32m━━━━━━━━━━━━━━━━━━━━\u001b[0m\u001b[37m\u001b[0m \u001b[1m0s\u001b[0m 9ms/step - accuracy: 0.9051 - loss: 0.3688 - val_accuracy: 0.8987 - val_loss: 0.3746\n",
      "Epoch 60/200\n",
      "\u001b[1m36/36\u001b[0m \u001b[32m━━━━━━━━━━━━━━━━━━━━\u001b[0m\u001b[37m\u001b[0m \u001b[1m0s\u001b[0m 9ms/step - accuracy: 0.9203 - loss: 0.3445 - val_accuracy: 0.9207 - val_loss: 0.3407\n",
      "Epoch 61/200\n",
      "\u001b[1m36/36\u001b[0m \u001b[32m━━━━━━━━━━━━━━━━━━━━\u001b[0m\u001b[37m\u001b[0m \u001b[1m0s\u001b[0m 9ms/step - accuracy: 0.9262 - loss: 0.3282 - val_accuracy: 0.9220 - val_loss: 0.3279\n",
      "Epoch 62/200\n",
      "\u001b[1m36/36\u001b[0m \u001b[32m━━━━━━━━━━━━━━━━━━━━\u001b[0m\u001b[37m\u001b[0m \u001b[1m0s\u001b[0m 9ms/step - accuracy: 0.9386 - loss: 0.3096 - val_accuracy: 0.9167 - val_loss: 0.3230\n",
      "Epoch 63/200\n",
      "\u001b[1m36/36\u001b[0m \u001b[32m━━━━━━━━━━━━━━━━━━━━\u001b[0m\u001b[37m\u001b[0m \u001b[1m0s\u001b[0m 9ms/step - accuracy: 0.9433 - loss: 0.2892 - val_accuracy: 0.9220 - val_loss: 0.2956\n",
      "Epoch 64/200\n",
      "\u001b[1m36/36\u001b[0m \u001b[32m━━━━━━━━━━━━━━━━━━━━\u001b[0m\u001b[37m\u001b[0m \u001b[1m0s\u001b[0m 9ms/step - accuracy: 0.9532 - loss: 0.2633 - val_accuracy: 0.9507 - val_loss: 0.2699\n",
      "Epoch 65/200\n",
      "\u001b[1m36/36\u001b[0m \u001b[32m━━━━━━━━━━━━━━━━━━━━\u001b[0m\u001b[37m\u001b[0m \u001b[1m0s\u001b[0m 8ms/step - accuracy: 0.9566 - loss: 0.2550 - val_accuracy: 0.9453 - val_loss: 0.2565\n",
      "Epoch 66/200\n",
      "\u001b[1m36/36\u001b[0m \u001b[32m━━━━━━━━━━━━━━━━━━━━\u001b[0m\u001b[37m\u001b[0m \u001b[1m0s\u001b[0m 9ms/step - accuracy: 0.9557 - loss: 0.2422 - val_accuracy: 0.9613 - val_loss: 0.2379\n",
      "Epoch 67/200\n",
      "\u001b[1m36/36\u001b[0m \u001b[32m━━━━━━━━━━━━━━━━━━━━\u001b[0m\u001b[37m\u001b[0m \u001b[1m0s\u001b[0m 8ms/step - accuracy: 0.9649 - loss: 0.2283 - val_accuracy: 0.9587 - val_loss: 0.2431\n",
      "Epoch 68/200\n",
      "\u001b[1m36/36\u001b[0m \u001b[32m━━━━━━━━━━━━━━━━━━━━\u001b[0m\u001b[37m\u001b[0m \u001b[1m0s\u001b[0m 8ms/step - accuracy: 0.9616 - loss: 0.2232 - val_accuracy: 0.9653 - val_loss: 0.2185\n",
      "Epoch 69/200\n",
      "\u001b[1m36/36\u001b[0m \u001b[32m━━━━━━━━━━━━━━━━━━━━\u001b[0m\u001b[37m\u001b[0m \u001b[1m0s\u001b[0m 8ms/step - accuracy: 0.9577 - loss: 0.2209 - val_accuracy: 0.9260 - val_loss: 0.2927\n",
      "Epoch 70/200\n",
      "\u001b[1m36/36\u001b[0m \u001b[32m━━━━━━━━━━━━━━━━━━━━\u001b[0m\u001b[37m\u001b[0m \u001b[1m0s\u001b[0m 9ms/step - accuracy: 0.9546 - loss: 0.2221 - val_accuracy: 0.9673 - val_loss: 0.1978\n",
      "Epoch 71/200\n",
      "\u001b[1m36/36\u001b[0m \u001b[32m━━━━━━━━━━━━━━━━━━━━\u001b[0m\u001b[37m\u001b[0m \u001b[1m0s\u001b[0m 9ms/step - accuracy: 0.9722 - loss: 0.1901 - val_accuracy: 0.9613 - val_loss: 0.2090\n",
      "Epoch 72/200\n",
      "\u001b[1m36/36\u001b[0m \u001b[32m━━━━━━━━━━━━━━━━━━━━\u001b[0m\u001b[37m\u001b[0m \u001b[1m0s\u001b[0m 9ms/step - accuracy: 0.9718 - loss: 0.1820 - val_accuracy: 0.9673 - val_loss: 0.1904\n",
      "Epoch 73/200\n",
      "\u001b[1m36/36\u001b[0m \u001b[32m━━━━━━━━━━━━━━━━━━━━\u001b[0m\u001b[37m\u001b[0m \u001b[1m0s\u001b[0m 9ms/step - accuracy: 0.9370 - loss: 0.2438 - val_accuracy: 0.9513 - val_loss: 0.1923\n",
      "Epoch 74/200\n",
      "\u001b[1m36/36\u001b[0m \u001b[32m━━━━━━━━━━━━━━━━━━━━\u001b[0m\u001b[37m\u001b[0m \u001b[1m0s\u001b[0m 9ms/step - accuracy: 0.9725 - loss: 0.1704 - val_accuracy: 0.9673 - val_loss: 0.1618\n",
      "Epoch 75/200\n",
      "\u001b[1m36/36\u001b[0m \u001b[32m━━━━━━━━━━━━━━━━━━━━\u001b[0m\u001b[37m\u001b[0m \u001b[1m0s\u001b[0m 8ms/step - accuracy: 0.9847 - loss: 0.1447 - val_accuracy: 0.9787 - val_loss: 0.1485\n",
      "Epoch 76/200\n",
      "\u001b[1m36/36\u001b[0m \u001b[32m━━━━━━━━━━━━━━━━━━━━\u001b[0m\u001b[37m\u001b[0m \u001b[1m0s\u001b[0m 9ms/step - accuracy: 0.9849 - loss: 0.1361 - val_accuracy: 0.9767 - val_loss: 0.1460\n",
      "Epoch 77/200\n",
      "\u001b[1m36/36\u001b[0m \u001b[32m━━━━━━━━━━━━━━━━━━━━\u001b[0m\u001b[37m\u001b[0m \u001b[1m0s\u001b[0m 8ms/step - accuracy: 0.9853 - loss: 0.1298 - val_accuracy: 0.9727 - val_loss: 0.1495\n",
      "Epoch 78/200\n",
      "\u001b[1m36/36\u001b[0m \u001b[32m━━━━━━━━━━━━━━━━━━━━\u001b[0m\u001b[37m\u001b[0m \u001b[1m0s\u001b[0m 9ms/step - accuracy: 0.9781 - loss: 0.1393 - val_accuracy: 0.9787 - val_loss: 0.1354\n",
      "Epoch 79/200\n",
      "\u001b[1m36/36\u001b[0m \u001b[32m━━━━━━━━━━━━━━━━━━━━\u001b[0m\u001b[37m\u001b[0m \u001b[1m0s\u001b[0m 8ms/step - accuracy: 0.9877 - loss: 0.1158 - val_accuracy: 0.9800 - val_loss: 0.1271\n",
      "Epoch 80/200\n",
      "\u001b[1m36/36\u001b[0m \u001b[32m━━━━━━━━━━━━━━━━━━━━\u001b[0m\u001b[37m\u001b[0m \u001b[1m0s\u001b[0m 8ms/step - accuracy: 0.9881 - loss: 0.1140 - val_accuracy: 0.9780 - val_loss: 0.1254\n",
      "Epoch 81/200\n",
      "\u001b[1m36/36\u001b[0m \u001b[32m━━━━━━━━━━━━━━━━━━━━\u001b[0m\u001b[37m\u001b[0m \u001b[1m0s\u001b[0m 9ms/step - accuracy: 0.9878 - loss: 0.1086 - val_accuracy: 0.9847 - val_loss: 0.1092\n",
      "Epoch 82/200\n",
      "\u001b[1m36/36\u001b[0m \u001b[32m━━━━━━━━━━━━━━━━━━━━\u001b[0m\u001b[37m\u001b[0m \u001b[1m0s\u001b[0m 8ms/step - accuracy: 0.9917 - loss: 0.0928 - val_accuracy: 0.9860 - val_loss: 0.1084\n",
      "Epoch 83/200\n",
      "\u001b[1m36/36\u001b[0m \u001b[32m━━━━━━━━━━━━━━━━━━━━\u001b[0m\u001b[37m\u001b[0m \u001b[1m0s\u001b[0m 9ms/step - accuracy: 0.9932 - loss: 0.0915 - val_accuracy: 0.9860 - val_loss: 0.1024\n",
      "Epoch 84/200\n",
      "\u001b[1m36/36\u001b[0m \u001b[32m━━━━━━━━━━━━━━━━━━━━\u001b[0m\u001b[37m\u001b[0m \u001b[1m0s\u001b[0m 8ms/step - accuracy: 0.9926 - loss: 0.0893 - val_accuracy: 0.9867 - val_loss: 0.1015\n",
      "Epoch 85/200\n",
      "\u001b[1m36/36\u001b[0m \u001b[32m━━━━━━━━━━━━━━━━━━━━\u001b[0m\u001b[37m\u001b[0m \u001b[1m0s\u001b[0m 8ms/step - accuracy: 0.9941 - loss: 0.0846 - val_accuracy: 0.9880 - val_loss: 0.0949\n",
      "Epoch 86/200\n",
      "\u001b[1m36/36\u001b[0m \u001b[32m━━━━━━━━━━━━━━━━━━━━\u001b[0m\u001b[37m\u001b[0m \u001b[1m0s\u001b[0m 8ms/step - accuracy: 0.9923 - loss: 0.0826 - val_accuracy: 0.9880 - val_loss: 0.0874\n",
      "Epoch 87/200\n",
      "\u001b[1m36/36\u001b[0m \u001b[32m━━━━━━━━━━━━━━━━━━━━\u001b[0m\u001b[37m\u001b[0m \u001b[1m0s\u001b[0m 9ms/step - accuracy: 0.9946 - loss: 0.0748 - val_accuracy: 0.9867 - val_loss: 0.0880\n",
      "Epoch 88/200\n",
      "\u001b[1m36/36\u001b[0m \u001b[32m━━━━━━━━━━━━━━━━━━━━\u001b[0m\u001b[37m\u001b[0m \u001b[1m0s\u001b[0m 9ms/step - accuracy: 0.9178 - loss: 0.2624 - val_accuracy: 0.9233 - val_loss: 0.2189\n",
      "Epoch 89/200\n",
      "\u001b[1m36/36\u001b[0m \u001b[32m━━━━━━━━━━━━━━━━━━━━\u001b[0m\u001b[37m\u001b[0m \u001b[1m0s\u001b[0m 9ms/step - accuracy: 0.9672 - loss: 0.1434 - val_accuracy: 0.9827 - val_loss: 0.0971\n",
      "Epoch 90/200\n",
      "\u001b[1m36/36\u001b[0m \u001b[32m━━━━━━━━━━━━━━━━━━━━\u001b[0m\u001b[37m\u001b[0m \u001b[1m0s\u001b[0m 8ms/step - accuracy: 0.9934 - loss: 0.0784 - val_accuracy: 0.9833 - val_loss: 0.0898\n",
      "Epoch 91/200\n",
      "\u001b[1m36/36\u001b[0m \u001b[32m━━━━━━━━━━━━━━━━━━━━\u001b[0m\u001b[37m\u001b[0m \u001b[1m0s\u001b[0m 9ms/step - accuracy: 0.9926 - loss: 0.0715 - val_accuracy: 0.9907 - val_loss: 0.0735\n",
      "Epoch 92/200\n",
      "\u001b[1m36/36\u001b[0m \u001b[32m━━━━━━━━━━━━━━━━━━━━\u001b[0m\u001b[37m\u001b[0m \u001b[1m0s\u001b[0m 9ms/step - accuracy: 0.9975 - loss: 0.0598 - val_accuracy: 0.9913 - val_loss: 0.0724\n",
      "Epoch 93/200\n",
      "\u001b[1m36/36\u001b[0m \u001b[32m━━━━━━━━━━━━━━━━━━━━\u001b[0m\u001b[37m\u001b[0m \u001b[1m0s\u001b[0m 9ms/step - accuracy: 0.9964 - loss: 0.0581 - val_accuracy: 0.9920 - val_loss: 0.0681\n",
      "Epoch 94/200\n",
      "\u001b[1m36/36\u001b[0m \u001b[32m━━━━━━━━━━━━━━━━━━━━\u001b[0m\u001b[37m\u001b[0m \u001b[1m0s\u001b[0m 9ms/step - accuracy: 0.9970 - loss: 0.0548 - val_accuracy: 0.9907 - val_loss: 0.0659\n",
      "Epoch 95/200\n",
      "\u001b[1m36/36\u001b[0m \u001b[32m━━━━━━━━━━━━━━━━━━━━\u001b[0m\u001b[37m\u001b[0m \u001b[1m0s\u001b[0m 8ms/step - accuracy: 0.9974 - loss: 0.0548 - val_accuracy: 0.9907 - val_loss: 0.0646\n",
      "Epoch 96/200\n",
      "\u001b[1m36/36\u001b[0m \u001b[32m━━━━━━━━━━━━━━━━━━━━\u001b[0m\u001b[37m\u001b[0m \u001b[1m0s\u001b[0m 8ms/step - accuracy: 0.9971 - loss: 0.0510 - val_accuracy: 0.9900 - val_loss: 0.0666\n",
      "Epoch 97/200\n",
      "\u001b[1m36/36\u001b[0m \u001b[32m━━━━━━━━━━━━━━━━━━━━\u001b[0m\u001b[37m\u001b[0m \u001b[1m0s\u001b[0m 9ms/step - accuracy: 0.9959 - loss: 0.0506 - val_accuracy: 0.9933 - val_loss: 0.0601\n",
      "Epoch 98/200\n",
      "\u001b[1m36/36\u001b[0m \u001b[32m━━━━━━━━━━━━━━━━━━━━\u001b[0m\u001b[37m\u001b[0m \u001b[1m0s\u001b[0m 9ms/step - accuracy: 0.9978 - loss: 0.0461 - val_accuracy: 0.9920 - val_loss: 0.0572\n",
      "Epoch 99/200\n",
      "\u001b[1m36/36\u001b[0m \u001b[32m━━━━━━━━━━━━━━━━━━━━\u001b[0m\u001b[37m\u001b[0m \u001b[1m0s\u001b[0m 9ms/step - accuracy: 0.9984 - loss: 0.0439 - val_accuracy: 0.9920 - val_loss: 0.0565\n",
      "Epoch 100/200\n",
      "\u001b[1m36/36\u001b[0m \u001b[32m━━━━━━━━━━━━━━━━━━━━\u001b[0m\u001b[37m\u001b[0m \u001b[1m0s\u001b[0m 9ms/step - accuracy: 0.9984 - loss: 0.0422 - val_accuracy: 0.9927 - val_loss: 0.0529\n",
      "Epoch 101/200\n",
      "\u001b[1m36/36\u001b[0m \u001b[32m━━━━━━━━━━━━━━━━━━━━\u001b[0m\u001b[37m\u001b[0m \u001b[1m0s\u001b[0m 9ms/step - accuracy: 0.9982 - loss: 0.0400 - val_accuracy: 0.9933 - val_loss: 0.0518\n",
      "Epoch 102/200\n",
      "\u001b[1m36/36\u001b[0m \u001b[32m━━━━━━━━━━━━━━━━━━━━\u001b[0m\u001b[37m\u001b[0m \u001b[1m0s\u001b[0m 8ms/step - accuracy: 0.9985 - loss: 0.0382 - val_accuracy: 0.9920 - val_loss: 0.0517\n",
      "Epoch 103/200\n",
      "\u001b[1m36/36\u001b[0m \u001b[32m━━━━━━━━━━━━━━━━━━━━\u001b[0m\u001b[37m\u001b[0m \u001b[1m0s\u001b[0m 9ms/step - accuracy: 0.9974 - loss: 0.0387 - val_accuracy: 0.9940 - val_loss: 0.0481\n",
      "Epoch 104/200\n",
      "\u001b[1m36/36\u001b[0m \u001b[32m━━━━━━━━━━━━━━━━━━━━\u001b[0m\u001b[37m\u001b[0m \u001b[1m0s\u001b[0m 8ms/step - accuracy: 0.9982 - loss: 0.0365 - val_accuracy: 0.9927 - val_loss: 0.0495\n",
      "Epoch 105/200\n",
      "\u001b[1m36/36\u001b[0m \u001b[32m━━━━━━━━━━━━━━━━━━━━\u001b[0m\u001b[37m\u001b[0m \u001b[1m0s\u001b[0m 9ms/step - accuracy: 0.9981 - loss: 0.0360 - val_accuracy: 0.9907 - val_loss: 0.0498\n",
      "Epoch 106/200\n",
      "\u001b[1m36/36\u001b[0m \u001b[32m━━━━━━━━━━━━━━━━━━━━\u001b[0m\u001b[37m\u001b[0m \u001b[1m0s\u001b[0m 8ms/step - accuracy: 0.9979 - loss: 0.0345 - val_accuracy: 0.9940 - val_loss: 0.0439\n",
      "Epoch 107/200\n",
      "\u001b[1m36/36\u001b[0m \u001b[32m━━━━━━━━━━━━━━━━━━━━\u001b[0m\u001b[37m\u001b[0m \u001b[1m0s\u001b[0m 8ms/step - accuracy: 0.9983 - loss: 0.0332 - val_accuracy: 0.9940 - val_loss: 0.0424\n",
      "Epoch 108/200\n",
      "\u001b[1m36/36\u001b[0m \u001b[32m━━━━━━━━━━━━━━━━━━━━\u001b[0m\u001b[37m\u001b[0m \u001b[1m0s\u001b[0m 9ms/step - accuracy: 0.9986 - loss: 0.0301 - val_accuracy: 0.9947 - val_loss: 0.0427\n",
      "Epoch 109/200\n",
      "\u001b[1m36/36\u001b[0m \u001b[32m━━━━━━━━━━━━━━━━━━━━\u001b[0m\u001b[37m\u001b[0m \u001b[1m0s\u001b[0m 8ms/step - accuracy: 0.9964 - loss: 0.0348 - val_accuracy: 0.9933 - val_loss: 0.0424\n",
      "Epoch 110/200\n",
      "\u001b[1m36/36\u001b[0m \u001b[32m━━━━━━━━━━━━━━━━━━━━\u001b[0m\u001b[37m\u001b[0m \u001b[1m0s\u001b[0m 8ms/step - accuracy: 0.9985 - loss: 0.0300 - val_accuracy: 0.9933 - val_loss: 0.0410\n",
      "Epoch 111/200\n",
      "\u001b[1m36/36\u001b[0m \u001b[32m━━━━━━━━━━━━━━━━━━━━\u001b[0m\u001b[37m\u001b[0m \u001b[1m0s\u001b[0m 8ms/step - accuracy: 0.9989 - loss: 0.0272 - val_accuracy: 0.9947 - val_loss: 0.0388\n",
      "Epoch 112/200\n",
      "\u001b[1m36/36\u001b[0m \u001b[32m━━━━━━━━━━━━━━━━━━━━\u001b[0m\u001b[37m\u001b[0m \u001b[1m0s\u001b[0m 9ms/step - accuracy: 0.9992 - loss: 0.0259 - val_accuracy: 0.9933 - val_loss: 0.0394\n",
      "Epoch 113/200\n",
      "\u001b[1m36/36\u001b[0m \u001b[32m━━━━━━━━━━━━━━━━━━━━\u001b[0m\u001b[37m\u001b[0m \u001b[1m0s\u001b[0m 8ms/step - accuracy: 0.9991 - loss: 0.0241 - val_accuracy: 0.9953 - val_loss: 0.0362\n",
      "Epoch 114/200\n",
      "\u001b[1m36/36\u001b[0m \u001b[32m━━━━━━━━━━━━━━━━━━━━\u001b[0m\u001b[37m\u001b[0m \u001b[1m0s\u001b[0m 9ms/step - accuracy: 0.9994 - loss: 0.0241 - val_accuracy: 0.9940 - val_loss: 0.0364\n",
      "Epoch 115/200\n",
      "\u001b[1m36/36\u001b[0m \u001b[32m━━━━━━━━━━━━━━━━━━━━\u001b[0m\u001b[37m\u001b[0m \u001b[1m0s\u001b[0m 9ms/step - accuracy: 0.9995 - loss: 0.0232 - val_accuracy: 0.9940 - val_loss: 0.0355\n",
      "Epoch 116/200\n",
      "\u001b[1m36/36\u001b[0m \u001b[32m━━━━━━━━━━━━━━━━━━━━\u001b[0m\u001b[37m\u001b[0m \u001b[1m0s\u001b[0m 8ms/step - accuracy: 0.9993 - loss: 0.0220 - val_accuracy: 0.9947 - val_loss: 0.0336\n",
      "Epoch 117/200\n",
      "\u001b[1m36/36\u001b[0m \u001b[32m━━━━━━━━━━━━━━━━━━━━\u001b[0m\u001b[37m\u001b[0m \u001b[1m0s\u001b[0m 9ms/step - accuracy: 0.9996 - loss: 0.0209 - val_accuracy: 0.9953 - val_loss: 0.0332\n",
      "Epoch 118/200\n",
      "\u001b[1m36/36\u001b[0m \u001b[32m━━━━━━━━━━━━━━━━━━━━\u001b[0m\u001b[37m\u001b[0m \u001b[1m0s\u001b[0m 9ms/step - accuracy: 0.9995 - loss: 0.0206 - val_accuracy: 0.9927 - val_loss: 0.0379\n",
      "Epoch 119/200\n",
      "\u001b[1m36/36\u001b[0m \u001b[32m━━━━━━━━━━━━━━━━━━━━\u001b[0m\u001b[37m\u001b[0m \u001b[1m0s\u001b[0m 8ms/step - accuracy: 0.9986 - loss: 0.0243 - val_accuracy: 0.9147 - val_loss: 0.2773\n",
      "Epoch 120/200\n",
      "\u001b[1m36/36\u001b[0m \u001b[32m━━━━━━━━━━━━━━━━━━━━\u001b[0m\u001b[37m\u001b[0m \u001b[1m0s\u001b[0m 9ms/step - accuracy: 0.7908 - loss: 0.7439 - val_accuracy: 0.9527 - val_loss: 0.1629\n",
      "Epoch 121/200\n",
      "\u001b[1m36/36\u001b[0m \u001b[32m━━━━━━━━━━━━━━━━━━━━\u001b[0m\u001b[37m\u001b[0m \u001b[1m0s\u001b[0m 9ms/step - accuracy: 0.9725 - loss: 0.1110 - val_accuracy: 0.9893 - val_loss: 0.0625\n",
      "Epoch 122/200\n",
      "\u001b[1m36/36\u001b[0m \u001b[32m━━━━━━━━━━━━━━━━━━━━\u001b[0m\u001b[37m\u001b[0m \u001b[1m0s\u001b[0m 9ms/step - accuracy: 0.9968 - loss: 0.0373 - val_accuracy: 0.9960 - val_loss: 0.0384\n",
      "Epoch 123/200\n",
      "\u001b[1m36/36\u001b[0m \u001b[32m━━━━━━━━━━━━━━━━━━━━\u001b[0m\u001b[37m\u001b[0m \u001b[1m0s\u001b[0m 9ms/step - accuracy: 0.9994 - loss: 0.0233 - val_accuracy: 0.9967 - val_loss: 0.0336\n",
      "Epoch 124/200\n",
      "\u001b[1m36/36\u001b[0m \u001b[32m━━━━━━━━━━━━━━━━━━━━\u001b[0m\u001b[37m\u001b[0m \u001b[1m0s\u001b[0m 9ms/step - accuracy: 0.9996 - loss: 0.0210 - val_accuracy: 0.9947 - val_loss: 0.0321\n",
      "Epoch 125/200\n",
      "\u001b[1m36/36\u001b[0m \u001b[32m━━━━━━━━━━━━━━━━━━━━\u001b[0m\u001b[37m\u001b[0m \u001b[1m0s\u001b[0m 9ms/step - accuracy: 0.9994 - loss: 0.0200 - val_accuracy: 0.9947 - val_loss: 0.0309\n",
      "Epoch 126/200\n",
      "\u001b[1m36/36\u001b[0m \u001b[32m━━━━━━━━━━━━━━━━━━━━\u001b[0m\u001b[37m\u001b[0m \u001b[1m0s\u001b[0m 8ms/step - accuracy: 0.9996 - loss: 0.0183 - val_accuracy: 0.9960 - val_loss: 0.0300\n",
      "Epoch 127/200\n",
      "\u001b[1m36/36\u001b[0m \u001b[32m━━━━━━━━━━━━━━━━━━━━\u001b[0m\u001b[37m\u001b[0m \u001b[1m0s\u001b[0m 9ms/step - accuracy: 0.9998 - loss: 0.0169 - val_accuracy: 0.9960 - val_loss: 0.0285\n",
      "Epoch 128/200\n",
      "\u001b[1m36/36\u001b[0m \u001b[32m━━━━━━━━━━━━━━━━━━━━\u001b[0m\u001b[37m\u001b[0m \u001b[1m0s\u001b[0m 9ms/step - accuracy: 0.9995 - loss: 0.0170 - val_accuracy: 0.9960 - val_loss: 0.0289\n",
      "Epoch 129/200\n",
      "\u001b[1m36/36\u001b[0m \u001b[32m━━━━━━━━━━━━━━━━━━━━\u001b[0m\u001b[37m\u001b[0m \u001b[1m0s\u001b[0m 9ms/step - accuracy: 0.9998 - loss: 0.0161 - val_accuracy: 0.9960 - val_loss: 0.0276\n",
      "Epoch 130/200\n",
      "\u001b[1m36/36\u001b[0m \u001b[32m━━━━━━━━━━━━━━━━━━━━\u001b[0m\u001b[37m\u001b[0m \u001b[1m0s\u001b[0m 8ms/step - accuracy: 0.9998 - loss: 0.0155 - val_accuracy: 0.9953 - val_loss: 0.0269\n",
      "Epoch 131/200\n",
      "\u001b[1m36/36\u001b[0m \u001b[32m━━━━━━━━━━━━━━━━━━━━\u001b[0m\u001b[37m\u001b[0m \u001b[1m0s\u001b[0m 9ms/step - accuracy: 0.9998 - loss: 0.0153 - val_accuracy: 0.9960 - val_loss: 0.0264\n",
      "Epoch 132/200\n",
      "\u001b[1m36/36\u001b[0m \u001b[32m━━━━━━━━━━━━━━━━━━━━\u001b[0m\u001b[37m\u001b[0m \u001b[1m0s\u001b[0m 8ms/step - accuracy: 0.9999 - loss: 0.0139 - val_accuracy: 0.9967 - val_loss: 0.0269\n",
      "Epoch 133/200\n",
      "\u001b[1m36/36\u001b[0m \u001b[32m━━━━━━━━━━━━━━━━━━━━\u001b[0m\u001b[37m\u001b[0m \u001b[1m0s\u001b[0m 9ms/step - accuracy: 0.9997 - loss: 0.0144 - val_accuracy: 0.9953 - val_loss: 0.0271\n",
      "Epoch 134/200\n",
      "\u001b[1m36/36\u001b[0m \u001b[32m━━━━━━━━━━━━━━━━━━━━\u001b[0m\u001b[37m\u001b[0m \u001b[1m0s\u001b[0m 8ms/step - accuracy: 0.9999 - loss: 0.0133 - val_accuracy: 0.9960 - val_loss: 0.0256\n",
      "Epoch 135/200\n",
      "\u001b[1m36/36\u001b[0m \u001b[32m━━━━━━━━━━━━━━━━━━━━\u001b[0m\u001b[37m\u001b[0m \u001b[1m0s\u001b[0m 9ms/step - accuracy: 0.9998 - loss: 0.0132 - val_accuracy: 0.9960 - val_loss: 0.0252\n",
      "Epoch 136/200\n",
      "\u001b[1m36/36\u001b[0m \u001b[32m━━━━━━━━━━━━━━━━━━━━\u001b[0m\u001b[37m\u001b[0m \u001b[1m0s\u001b[0m 9ms/step - accuracy: 0.9999 - loss: 0.0123 - val_accuracy: 0.9967 - val_loss: 0.0246\n",
      "Epoch 137/200\n",
      "\u001b[1m36/36\u001b[0m \u001b[32m━━━━━━━━━━━━━━━━━━━━\u001b[0m\u001b[37m\u001b[0m \u001b[1m0s\u001b[0m 8ms/step - accuracy: 0.9999 - loss: 0.0125 - val_accuracy: 0.9960 - val_loss: 0.0250\n",
      "Epoch 138/200\n",
      "\u001b[1m36/36\u001b[0m \u001b[32m━━━━━━━━━━━━━━━━━━━━\u001b[0m\u001b[37m\u001b[0m \u001b[1m0s\u001b[0m 9ms/step - accuracy: 0.9999 - loss: 0.0123 - val_accuracy: 0.9960 - val_loss: 0.0239\n",
      "Epoch 139/200\n",
      "\u001b[1m36/36\u001b[0m \u001b[32m━━━━━━━━━━━━━━━━━━━━\u001b[0m\u001b[37m\u001b[0m \u001b[1m0s\u001b[0m 9ms/step - accuracy: 0.9998 - loss: 0.0116 - val_accuracy: 0.9953 - val_loss: 0.0240\n",
      "Epoch 140/200\n",
      "\u001b[1m36/36\u001b[0m \u001b[32m━━━━━━━━━━━━━━━━━━━━\u001b[0m\u001b[37m\u001b[0m \u001b[1m0s\u001b[0m 9ms/step - accuracy: 1.0000 - loss: 0.0117 - val_accuracy: 0.9960 - val_loss: 0.0237\n",
      "Epoch 141/200\n",
      "\u001b[1m36/36\u001b[0m \u001b[32m━━━━━━━━━━━━━━━━━━━━\u001b[0m\u001b[37m\u001b[0m \u001b[1m0s\u001b[0m 8ms/step - accuracy: 0.9998 - loss: 0.0106 - val_accuracy: 0.9960 - val_loss: 0.0230\n",
      "Epoch 142/200\n",
      "\u001b[1m36/36\u001b[0m \u001b[32m━━━━━━━━━━━━━━━━━━━━\u001b[0m\u001b[37m\u001b[0m \u001b[1m0s\u001b[0m 8ms/step - accuracy: 0.9997 - loss: 0.0106 - val_accuracy: 0.9953 - val_loss: 0.0225\n",
      "Epoch 143/200\n",
      "\u001b[1m36/36\u001b[0m \u001b[32m━━━━━━━━━━━━━━━━━━━━\u001b[0m\u001b[37m\u001b[0m \u001b[1m0s\u001b[0m 8ms/step - accuracy: 0.9999 - loss: 0.0100 - val_accuracy: 0.9960 - val_loss: 0.0228\n",
      "Epoch 144/200\n",
      "\u001b[1m36/36\u001b[0m \u001b[32m━━━━━━━━━━━━━━━━━━━━\u001b[0m\u001b[37m\u001b[0m \u001b[1m0s\u001b[0m 8ms/step - accuracy: 0.9999 - loss: 0.0100 - val_accuracy: 0.9960 - val_loss: 0.0217\n",
      "Epoch 145/200\n",
      "\u001b[1m36/36\u001b[0m \u001b[32m━━━━━━━━━━━━━━━━━━━━\u001b[0m\u001b[37m\u001b[0m \u001b[1m0s\u001b[0m 9ms/step - accuracy: 1.0000 - loss: 0.0098 - val_accuracy: 0.9960 - val_loss: 0.0218\n",
      "Epoch 146/200\n",
      "\u001b[1m36/36\u001b[0m \u001b[32m━━━━━━━━━━━━━━━━━━━━\u001b[0m\u001b[37m\u001b[0m \u001b[1m0s\u001b[0m 9ms/step - accuracy: 1.0000 - loss: 0.0098 - val_accuracy: 0.9947 - val_loss: 0.0228\n",
      "Epoch 147/200\n",
      "\u001b[1m36/36\u001b[0m \u001b[32m━━━━━━━━━━━━━━━━━━━━\u001b[0m\u001b[37m\u001b[0m \u001b[1m0s\u001b[0m 8ms/step - accuracy: 1.0000 - loss: 0.0090 - val_accuracy: 0.9960 - val_loss: 0.0215\n",
      "Epoch 148/200\n",
      "\u001b[1m36/36\u001b[0m \u001b[32m━━━━━━━━━━━━━━━━━━━━\u001b[0m\u001b[37m\u001b[0m \u001b[1m0s\u001b[0m 9ms/step - accuracy: 0.9999 - loss: 0.0089 - val_accuracy: 0.9960 - val_loss: 0.0210\n",
      "Epoch 149/200\n",
      "\u001b[1m36/36\u001b[0m \u001b[32m━━━━━━━━━━━━━━━━━━━━\u001b[0m\u001b[37m\u001b[0m \u001b[1m0s\u001b[0m 9ms/step - accuracy: 0.9999 - loss: 0.0091 - val_accuracy: 0.9940 - val_loss: 0.0259\n",
      "Epoch 150/200\n",
      "\u001b[1m36/36\u001b[0m \u001b[32m━━━━━━━━━━━━━━━━━━━━\u001b[0m\u001b[37m\u001b[0m \u001b[1m0s\u001b[0m 9ms/step - accuracy: 0.9998 - loss: 0.0099 - val_accuracy: 0.9953 - val_loss: 0.0216\n",
      "Epoch 151/200\n",
      "\u001b[1m36/36\u001b[0m \u001b[32m━━━━━━━━━━━━━━━━━━━━\u001b[0m\u001b[37m\u001b[0m \u001b[1m0s\u001b[0m 8ms/step - accuracy: 0.9999 - loss: 0.0086 - val_accuracy: 0.9967 - val_loss: 0.0204\n",
      "Epoch 152/200\n",
      "\u001b[1m36/36\u001b[0m \u001b[32m━━━━━━━━━━━━━━━━━━━━\u001b[0m\u001b[37m\u001b[0m \u001b[1m0s\u001b[0m 9ms/step - accuracy: 1.0000 - loss: 0.0078 - val_accuracy: 0.9960 - val_loss: 0.0206\n",
      "Epoch 153/200\n",
      "\u001b[1m36/36\u001b[0m \u001b[32m━━━━━━━━━━━━━━━━━━━━\u001b[0m\u001b[37m\u001b[0m \u001b[1m0s\u001b[0m 9ms/step - accuracy: 1.0000 - loss: 0.0078 - val_accuracy: 0.9960 - val_loss: 0.0206\n",
      "Epoch 154/200\n",
      "\u001b[1m36/36\u001b[0m \u001b[32m━━━━━━━━━━━━━━━━━━━━\u001b[0m\u001b[37m\u001b[0m \u001b[1m0s\u001b[0m 9ms/step - accuracy: 0.9998 - loss: 0.0081 - val_accuracy: 0.9960 - val_loss: 0.0194\n",
      "Epoch 155/200\n",
      "\u001b[1m36/36\u001b[0m \u001b[32m━━━━━━━━━━━━━━━━━━━━\u001b[0m\u001b[37m\u001b[0m \u001b[1m0s\u001b[0m 9ms/step - accuracy: 0.9999 - loss: 0.0075 - val_accuracy: 0.9960 - val_loss: 0.0185\n",
      "Epoch 156/200\n",
      "\u001b[1m36/36\u001b[0m \u001b[32m━━━━━━━━━━━━━━━━━━━━\u001b[0m\u001b[37m\u001b[0m \u001b[1m0s\u001b[0m 9ms/step - accuracy: 0.9998 - loss: 0.0073 - val_accuracy: 0.9953 - val_loss: 0.0202\n",
      "Epoch 157/200\n",
      "\u001b[1m36/36\u001b[0m \u001b[32m━━━━━━━━━━━━━━━━━━━━\u001b[0m\u001b[37m\u001b[0m \u001b[1m0s\u001b[0m 9ms/step - accuracy: 0.9999 - loss: 0.0072 - val_accuracy: 0.9960 - val_loss: 0.0205\n",
      "Epoch 158/200\n",
      "\u001b[1m36/36\u001b[0m \u001b[32m━━━━━━━━━━━━━━━━━━━━\u001b[0m\u001b[37m\u001b[0m \u001b[1m0s\u001b[0m 8ms/step - accuracy: 1.0000 - loss: 0.0073 - val_accuracy: 0.9953 - val_loss: 0.0195\n",
      "Epoch 159/200\n",
      "\u001b[1m36/36\u001b[0m \u001b[32m━━━━━━━━━━━━━━━━━━━━\u001b[0m\u001b[37m\u001b[0m \u001b[1m0s\u001b[0m 9ms/step - accuracy: 1.0000 - loss: 0.0065 - val_accuracy: 0.9960 - val_loss: 0.0194\n",
      "Epoch 160/200\n",
      "\u001b[1m36/36\u001b[0m \u001b[32m━━━━━━━━━━━━━━━━━━━━\u001b[0m\u001b[37m\u001b[0m \u001b[1m0s\u001b[0m 9ms/step - accuracy: 0.9999 - loss: 0.0066 - val_accuracy: 0.9960 - val_loss: 0.0188\n",
      "Epoch 161/200\n",
      "\u001b[1m36/36\u001b[0m \u001b[32m━━━━━━━━━━━━━━━━━━━━\u001b[0m\u001b[37m\u001b[0m \u001b[1m0s\u001b[0m 8ms/step - accuracy: 1.0000 - loss: 0.0061 - val_accuracy: 0.9940 - val_loss: 0.0207\n",
      "Epoch 162/200\n",
      "\u001b[1m36/36\u001b[0m \u001b[32m━━━━━━━━━━━━━━━━━━━━\u001b[0m\u001b[37m\u001b[0m \u001b[1m0s\u001b[0m 9ms/step - accuracy: 0.9999 - loss: 0.0065 - val_accuracy: 0.9960 - val_loss: 0.0193\n",
      "Epoch 163/200\n",
      "\u001b[1m36/36\u001b[0m \u001b[32m━━━━━━━━━━━━━━━━━━━━\u001b[0m\u001b[37m\u001b[0m \u001b[1m0s\u001b[0m 9ms/step - accuracy: 1.0000 - loss: 0.0063 - val_accuracy: 0.9960 - val_loss: 0.0205\n",
      "Epoch 164/200\n",
      "\u001b[1m36/36\u001b[0m \u001b[32m━━━━━━━━━━━━━━━━━━━━\u001b[0m\u001b[37m\u001b[0m \u001b[1m0s\u001b[0m 8ms/step - accuracy: 0.9999 - loss: 0.0063 - val_accuracy: 0.9960 - val_loss: 0.0196\n",
      "Epoch 165/200\n",
      "\u001b[1m36/36\u001b[0m \u001b[32m━━━━━━━━━━━━━━━━━━━━\u001b[0m\u001b[37m\u001b[0m \u001b[1m0s\u001b[0m 9ms/step - accuracy: 1.0000 - loss: 0.0060 - val_accuracy: 0.9960 - val_loss: 0.0188\n",
      "Epoch 166/200\n",
      "\u001b[1m36/36\u001b[0m \u001b[32m━━━━━━━━━━━━━━━━━━━━\u001b[0m\u001b[37m\u001b[0m \u001b[1m0s\u001b[0m 9ms/step - accuracy: 0.9996 - loss: 0.0063 - val_accuracy: 0.9960 - val_loss: 0.0184\n",
      "Epoch 167/200\n",
      "\u001b[1m36/36\u001b[0m \u001b[32m━━━━━━━━━━━━━━━━━━━━\u001b[0m\u001b[37m\u001b[0m \u001b[1m0s\u001b[0m 8ms/step - accuracy: 0.9999 - loss: 0.0053 - val_accuracy: 0.9960 - val_loss: 0.0182\n",
      "Epoch 168/200\n",
      "\u001b[1m36/36\u001b[0m \u001b[32m━━━━━━━━━━━━━━━━━━━━\u001b[0m\u001b[37m\u001b[0m \u001b[1m0s\u001b[0m 8ms/step - accuracy: 0.9999 - loss: 0.0053 - val_accuracy: 0.9953 - val_loss: 0.0178\n",
      "Epoch 169/200\n",
      "\u001b[1m36/36\u001b[0m \u001b[32m━━━━━━━━━━━━━━━━━━━━\u001b[0m\u001b[37m\u001b[0m \u001b[1m0s\u001b[0m 9ms/step - accuracy: 1.0000 - loss: 0.0053 - val_accuracy: 0.9960 - val_loss: 0.0190\n",
      "Epoch 170/200\n",
      "\u001b[1m36/36\u001b[0m \u001b[32m━━━━━━━━━━━━━━━━━━━━\u001b[0m\u001b[37m\u001b[0m \u001b[1m0s\u001b[0m 9ms/step - accuracy: 0.9842 - loss: 0.0802 - val_accuracy: 0.7460 - val_loss: 1.0067\n",
      "Epoch 171/200\n",
      "\u001b[1m36/36\u001b[0m \u001b[32m━━━━━━━━━━━━━━━━━━━━\u001b[0m\u001b[37m\u001b[0m \u001b[1m0s\u001b[0m 9ms/step - accuracy: 0.7576 - loss: 0.7587 - val_accuracy: 0.9567 - val_loss: 0.1507\n",
      "Epoch 172/200\n",
      "\u001b[1m36/36\u001b[0m \u001b[32m━━━━━━━━━━━━━━━━━━━━\u001b[0m\u001b[37m\u001b[0m \u001b[1m0s\u001b[0m 8ms/step - accuracy: 0.9693 - loss: 0.1135 - val_accuracy: 0.9853 - val_loss: 0.0653\n",
      "Epoch 173/200\n",
      "\u001b[1m36/36\u001b[0m \u001b[32m━━━━━━━━━━━━━━━━━━━━\u001b[0m\u001b[37m\u001b[0m \u001b[1m0s\u001b[0m 8ms/step - accuracy: 0.9973 - loss: 0.0347 - val_accuracy: 0.9933 - val_loss: 0.0349\n",
      "Epoch 174/200\n",
      "\u001b[1m36/36\u001b[0m \u001b[32m━━━━━━━━━━━━━━━━━━━━\u001b[0m\u001b[37m\u001b[0m \u001b[1m0s\u001b[0m 9ms/step - accuracy: 1.0000 - loss: 0.0185 - val_accuracy: 0.9947 - val_loss: 0.0302\n",
      "Epoch 175/200\n",
      "\u001b[1m36/36\u001b[0m \u001b[32m━━━━━━━━━━━━━━━━━━━━\u001b[0m\u001b[37m\u001b[0m \u001b[1m0s\u001b[0m 9ms/step - accuracy: 1.0000 - loss: 0.0152 - val_accuracy: 0.9947 - val_loss: 0.0261\n",
      "Epoch 176/200\n",
      "\u001b[1m36/36\u001b[0m \u001b[32m━━━━━━━━━━━━━━━━━━━━\u001b[0m\u001b[37m\u001b[0m \u001b[1m0s\u001b[0m 9ms/step - accuracy: 1.0000 - loss: 0.0124 - val_accuracy: 0.9960 - val_loss: 0.0235\n",
      "Epoch 177/200\n",
      "\u001b[1m36/36\u001b[0m \u001b[32m━━━━━━━━━━━━━━━━━━━━\u001b[0m\u001b[37m\u001b[0m \u001b[1m0s\u001b[0m 9ms/step - accuracy: 0.9999 - loss: 0.0108 - val_accuracy: 0.9953 - val_loss: 0.0226\n",
      "Epoch 178/200\n",
      "\u001b[1m36/36\u001b[0m \u001b[32m━━━━━━━━━━━━━━━━━━━━\u001b[0m\u001b[37m\u001b[0m \u001b[1m0s\u001b[0m 8ms/step - accuracy: 1.0000 - loss: 0.0104 - val_accuracy: 0.9960 - val_loss: 0.0214\n",
      "Epoch 179/200\n",
      "\u001b[1m36/36\u001b[0m \u001b[32m━━━━━━━━━━━━━━━━━━━━\u001b[0m\u001b[37m\u001b[0m \u001b[1m0s\u001b[0m 9ms/step - accuracy: 0.9998 - loss: 0.0098 - val_accuracy: 0.9953 - val_loss: 0.0208\n",
      "Epoch 180/200\n",
      "\u001b[1m36/36\u001b[0m \u001b[32m━━━━━━━━━━━━━━━━━━━━\u001b[0m\u001b[37m\u001b[0m \u001b[1m0s\u001b[0m 9ms/step - accuracy: 0.9999 - loss: 0.0087 - val_accuracy: 0.9953 - val_loss: 0.0198\n",
      "Epoch 181/200\n",
      "\u001b[1m36/36\u001b[0m \u001b[32m━━━━━━━━━━━━━━━━━━━━\u001b[0m\u001b[37m\u001b[0m \u001b[1m0s\u001b[0m 9ms/step - accuracy: 1.0000 - loss: 0.0082 - val_accuracy: 0.9960 - val_loss: 0.0192\n",
      "Epoch 182/200\n",
      "\u001b[1m36/36\u001b[0m \u001b[32m━━━━━━━━━━━━━━━━━━━━\u001b[0m\u001b[37m\u001b[0m \u001b[1m0s\u001b[0m 8ms/step - accuracy: 1.0000 - loss: 0.0078 - val_accuracy: 0.9960 - val_loss: 0.0193\n",
      "Epoch 183/200\n",
      "\u001b[1m36/36\u001b[0m \u001b[32m━━━━━━━━━━━━━━━━━━━━\u001b[0m\u001b[37m\u001b[0m \u001b[1m0s\u001b[0m 9ms/step - accuracy: 0.9999 - loss: 0.0073 - val_accuracy: 0.9953 - val_loss: 0.0185\n",
      "Epoch 184/200\n",
      "\u001b[1m36/36\u001b[0m \u001b[32m━━━━━━━━━━━━━━━━━━━━\u001b[0m\u001b[37m\u001b[0m \u001b[1m0s\u001b[0m 9ms/step - accuracy: 0.9998 - loss: 0.0070 - val_accuracy: 0.9960 - val_loss: 0.0183\n",
      "Epoch 185/200\n",
      "\u001b[1m36/36\u001b[0m \u001b[32m━━━━━━━━━━━━━━━━━━━━\u001b[0m\u001b[37m\u001b[0m \u001b[1m0s\u001b[0m 9ms/step - accuracy: 1.0000 - loss: 0.0067 - val_accuracy: 0.9960 - val_loss: 0.0182\n",
      "Epoch 186/200\n",
      "\u001b[1m36/36\u001b[0m \u001b[32m━━━━━━━━━━━━━━━━━━━━\u001b[0m\u001b[37m\u001b[0m \u001b[1m0s\u001b[0m 9ms/step - accuracy: 0.9999 - loss: 0.0065 - val_accuracy: 0.9967 - val_loss: 0.0171\n",
      "Epoch 187/200\n",
      "\u001b[1m36/36\u001b[0m \u001b[32m━━━━━━━━━━━━━━━━━━━━\u001b[0m\u001b[37m\u001b[0m \u001b[1m0s\u001b[0m 9ms/step - accuracy: 1.0000 - loss: 0.0063 - val_accuracy: 0.9953 - val_loss: 0.0172\n",
      "Epoch 188/200\n",
      "\u001b[1m36/36\u001b[0m \u001b[32m━━━━━━━━━━━━━━━━━━━━\u001b[0m\u001b[37m\u001b[0m \u001b[1m0s\u001b[0m 9ms/step - accuracy: 1.0000 - loss: 0.0060 - val_accuracy: 0.9967 - val_loss: 0.0170\n",
      "Epoch 189/200\n",
      "\u001b[1m36/36\u001b[0m \u001b[32m━━━━━━━━━━━━━━━━━━━━\u001b[0m\u001b[37m\u001b[0m \u001b[1m0s\u001b[0m 8ms/step - accuracy: 1.0000 - loss: 0.0055 - val_accuracy: 0.9960 - val_loss: 0.0165\n",
      "Epoch 190/200\n",
      "\u001b[1m36/36\u001b[0m \u001b[32m━━━━━━━━━━━━━━━━━━━━\u001b[0m\u001b[37m\u001b[0m \u001b[1m0s\u001b[0m 9ms/step - accuracy: 1.0000 - loss: 0.0055 - val_accuracy: 0.9967 - val_loss: 0.0163\n",
      "Epoch 191/200\n",
      "\u001b[1m36/36\u001b[0m \u001b[32m━━━━━━━━━━━━━━━━━━━━\u001b[0m\u001b[37m\u001b[0m \u001b[1m0s\u001b[0m 9ms/step - accuracy: 1.0000 - loss: 0.0050 - val_accuracy: 0.9960 - val_loss: 0.0164\n",
      "Epoch 192/200\n",
      "\u001b[1m36/36\u001b[0m \u001b[32m━━━━━━━━━━━━━━━━━━━━\u001b[0m\u001b[37m\u001b[0m \u001b[1m0s\u001b[0m 9ms/step - accuracy: 1.0000 - loss: 0.0051 - val_accuracy: 0.9967 - val_loss: 0.0162\n",
      "Epoch 193/200\n",
      "\u001b[1m36/36\u001b[0m \u001b[32m━━━━━━━━━━━━━━━━━━━━\u001b[0m\u001b[37m\u001b[0m \u001b[1m0s\u001b[0m 8ms/step - accuracy: 1.0000 - loss: 0.0049 - val_accuracy: 0.9967 - val_loss: 0.0159\n",
      "Epoch 194/200\n",
      "\u001b[1m36/36\u001b[0m \u001b[32m━━━━━━━━━━━━━━━━━━━━\u001b[0m\u001b[37m\u001b[0m \u001b[1m0s\u001b[0m 9ms/step - accuracy: 1.0000 - loss: 0.0047 - val_accuracy: 0.9967 - val_loss: 0.0160\n",
      "Epoch 195/200\n",
      "\u001b[1m36/36\u001b[0m \u001b[32m━━━━━━━━━━━━━━━━━━━━\u001b[0m\u001b[37m\u001b[0m \u001b[1m0s\u001b[0m 9ms/step - accuracy: 1.0000 - loss: 0.0045 - val_accuracy: 0.9953 - val_loss: 0.0159\n",
      "Epoch 196/200\n",
      "\u001b[1m36/36\u001b[0m \u001b[32m━━━━━━━━━━━━━━━━━━━━\u001b[0m\u001b[37m\u001b[0m \u001b[1m0s\u001b[0m 9ms/step - accuracy: 1.0000 - loss: 0.0046 - val_accuracy: 0.9960 - val_loss: 0.0156\n",
      "Epoch 197/200\n",
      "\u001b[1m36/36\u001b[0m \u001b[32m━━━━━━━━━━━━━━━━━━━━\u001b[0m\u001b[37m\u001b[0m \u001b[1m0s\u001b[0m 8ms/step - accuracy: 1.0000 - loss: 0.0044 - val_accuracy: 0.9953 - val_loss: 0.0156\n",
      "Epoch 198/200\n",
      "\u001b[1m36/36\u001b[0m \u001b[32m━━━━━━━━━━━━━━━━━━━━\u001b[0m\u001b[37m\u001b[0m \u001b[1m0s\u001b[0m 9ms/step - accuracy: 1.0000 - loss: 0.0043 - val_accuracy: 0.9973 - val_loss: 0.0156\n",
      "Epoch 199/200\n",
      "\u001b[1m36/36\u001b[0m \u001b[32m━━━━━━━━━━━━━━━━━━━━\u001b[0m\u001b[37m\u001b[0m \u001b[1m0s\u001b[0m 9ms/step - accuracy: 1.0000 - loss: 0.0040 - val_accuracy: 0.9967 - val_loss: 0.0152\n",
      "Epoch 200/200\n",
      "\u001b[1m36/36\u001b[0m \u001b[32m━━━━━━━━━━━━━━━━━━━━\u001b[0m\u001b[37m\u001b[0m \u001b[1m0s\u001b[0m 9ms/step - accuracy: 1.0000 - loss: 0.0041 - val_accuracy: 0.9960 - val_loss: 0.0150\n"
     ]
    }
   ],
   "source": [
    "history = model.fit(\n",
    "    x=x,\n",
    "    y=y,\n",
    "    epochs=epochs_num,\n",
    "    batch_size=batch_size,\n",
    "    validation_split=0.1,\n",
    "    callbacks=[tensorboard_callback]\n",
    ")"
   ]
  },
  {
   "cell_type": "code",
   "execution_count": 28,
   "metadata": {},
   "outputs": [],
   "source": [
    "# Renders the charts for training accuracy and loss.\n",
    "def render_training_history(training_history):\n",
    "    loss = training_history.history['loss']\n",
    "    val_loss = training_history.history['val_loss']\n",
    "\n",
    "    accuracy = training_history.history['accuracy']\n",
    "    val_accuracy = training_history.history['val_accuracy']\n",
    "\n",
    "    plt.figure(figsize=(14, 4))\n",
    "\n",
    "    plt.subplot(1, 2, 1)\n",
    "    plt.title('Loss')\n",
    "    plt.xlabel('Epoch')\n",
    "    plt.ylabel('Loss')\n",
    "    plt.plot(loss, label='Training set')\n",
    "    plt.plot(val_loss, label='Test set', linestyle='--')\n",
    "    plt.legend()\n",
    "    plt.grid(linestyle='--', linewidth=1, alpha=0.5)\n",
    "\n",
    "    plt.subplot(1, 2, 2)\n",
    "    plt.title('Accuracy')\n",
    "    plt.xlabel('Epoch')\n",
    "    plt.ylabel('Accuracy')\n",
    "    plt.plot(accuracy, label='Training set')\n",
    "    plt.plot(val_accuracy, label='Test set', linestyle='--')\n",
    "    plt.legend()\n",
    "    plt.grid(linestyle='--', linewidth=1, alpha=0.5)\n",
    "\n",
    "    plt.show()"
   ]
  },
  {
   "cell_type": "code",
   "execution_count": 29,
   "metadata": {},
   "outputs": [
    {
     "data": {
      "image/png": "[encoded data removed]",
      "text/plain": [
       "<Figure size 1400x400 with 2 Axes>"
      ]
     },
     "metadata": {},
     "output_type": "display_data"
    }
   ],
   "source": [
    "render_training_history(history)"
   ]
  },
  {
   "cell_type": "markdown",
   "metadata": {},
   "source": [
    "## Test a dataset"
   ]
  },
  {
   "cell_type": "code",
   "execution_count": 30,
   "metadata": {},
   "outputs": [
    {
     "name": "stdout",
     "output_type": "stream",
     "text": [
      "x_test:\n",
      " [[[0 0 0 0 0 1 0 0 0 0 0 0]\n",
      "  [0 0 1 0 0 0 0 0 0 0 0 0]\n",
      "  [0 0 0 0 0 0 0 0 0 0 1 0]\n",
      "  [0 0 0 0 0 0 1 0 0 0 0 0]\n",
      "  [0 1 0 0 0 0 0 0 0 0 0 0]\n",
      "  [0 0 0 0 0 0 0 0 0 0 0 1]\n",
      "  [0 0 0 0 0 0 0 0 0 0 0 1]]]\n",
      "\n",
      "y_test:\n",
      " [[[0 1 0 0 0 0 0 0 0 0 0 0]\n",
      "  [0 1 0 0 0 0 0 0 0 0 0 0]\n",
      "  [0 0 0 1 0 0 0 0 0 0 0 0]]]\n"
     ]
    }
   ],
   "source": [
    "x_test, y_test = generate_dataset(dataset_size, sequence_length, max_num, vocabulary)\n",
    "\n",
    "print('x_test:\\n', x_test[:1])\n",
    "print()\n",
    "print('y_test:\\n', y_test[:1])"
   ]
  },
  {
   "cell_type": "code",
   "execution_count": 31,
   "metadata": {},
   "outputs": [
    {
     "name": "stdout",
     "output_type": "stream",
     "text": [
      "\u001b[1m157/157\u001b[0m \u001b[32m━━━━━━━━━━━━━━━━━━━━\u001b[0m\u001b[37m\u001b[0m \u001b[1m1s\u001b[0m 3ms/step\n",
      "predictions.shape:  (5000, 3, 12)\n",
      "\n",
      "predictions[0]:\n",
      " [[2.54616380e-12 9.99994993e-01 3.88131584e-13 5.02288717e-15\n",
      "  9.84769398e-16 2.04166651e-16 1.78914937e-15 1.31587219e-13\n",
      "  3.67059924e-11 4.97570545e-06 1.36009122e-14 3.52711666e-17]\n",
      " [3.92778369e-04 9.96764302e-01 2.83755339e-03 5.06556489e-06\n",
      "  4.97594606e-08 9.42282710e-11 3.45078632e-10 3.33670425e-09\n",
      "  2.89705131e-08 6.66006343e-08 6.88887974e-11 1.45105854e-11]\n",
      " [1.31662176e-07 3.77960646e-06 5.86138573e-03 9.91693556e-01\n",
      "  2.44049774e-03 2.00625138e-07 5.00832797e-09 2.11997975e-09\n",
      "  1.02824407e-08 2.29043118e-09 9.01115571e-11 3.99144852e-07]]\n",
      "\n",
      "predictions[1]:\n",
      " [[2.2949932e-12 9.9999595e-01 1.0624053e-11 2.0432717e-14 1.3090113e-14\n",
      "  4.2717934e-15 2.2565032e-14 2.9877481e-12 8.5999166e-11 4.0200680e-06\n",
      "  9.1338111e-14 8.1182543e-17]\n",
      " [9.8395340e-06 3.5355631e-03 9.9580884e-01 6.4284872e-04 1.3416501e-06\n",
      "  2.4933018e-07 3.0820311e-07 9.8176508e-07 1.7370704e-08 1.6958056e-08\n",
      "  2.5360830e-10 8.4147335e-11]\n",
      " [8.4121277e-10 7.4093843e-15 3.0765893e-12 9.0424190e-10 1.3697439e-07\n",
      "  8.3249860e-04 9.9848747e-01 6.7963800e-04 6.5844745e-08 9.5331840e-11\n",
      "  2.2362856e-11 1.4411540e-07]]\n"
     ]
    }
   ],
   "source": [
    "predictions = model.predict(x_test)\n",
    "\n",
    "print('predictions.shape: ', predictions.shape)\n",
    "print()\n",
    "print('predictions[0]:\\n', predictions[0])\n",
    "print()\n",
    "print('predictions[1]:\\n', predictions[1])"
   ]
  },
  {
   "cell_type": "code",
   "execution_count": 32,
   "metadata": {},
   "outputs": [
    {
     "name": "stdout",
     "output_type": "stream",
     "text": [
      "52+61   = 113 [predict: 113] ✓\n",
      "99+27   = 126 [predict: 126] ✓\n",
      "3+74    = 77  [predict: 77 ] ✓\n",
      "5+9     = 14  [predict: 14 ] ✓\n",
      "4+92    = 96  [predict: 96 ] ✓\n",
      "14+51   = 65  [predict: 65 ] ✓\n",
      "9+65    = 74  [predict: 74 ] ✓\n",
      "21+74   = 95  [predict: 95 ] ✓\n",
      "5+94    = 99  [predict: 99 ] ✓\n",
      "3+91    = 94  [predict: 94 ] ✓\n",
      "22+55   = 77  [predict: 77 ] ✓\n",
      "36+25   = 61  [predict: 61 ] ✓\n",
      "25+46   = 71  [predict: 71 ] ✓\n",
      "20+3    = 23  [predict: 23 ] ✓\n",
      "80+52   = 132 [predict: 132] ✓\n",
      "84+36   = 120 [predict: 120] ✓\n",
      "44+58   = 102 [predict: 102] ✓\n",
      "7+12    = 19  [predict: 19 ] ✓\n",
      "50+39   = 89  [predict: 89 ] ✓\n",
      "47+38   = 85  [predict: 85 ] ✓\n",
      "27+5    = 32  [predict: 32 ] ✓\n",
      "40+97   = 137 [predict: 137] ✓\n",
      "46+55   = 101 [predict: 101] ✓\n",
      "74+66   = 140 [predict: 140] ✓\n",
      "40+78   = 118 [predict: 118] ✓\n",
      "32+100  = 132 [predict: 132] ✓\n",
      "16+51   = 67  [predict: 67 ] ✓\n",
      "72+21   = 93  [predict: 93 ] ✓\n",
      "21+54   = 75  [predict: 75 ] ✓\n",
      "87+56   = 143 [predict: 143] ✓\n",
      "60+42   = 102 [predict: 102] ✓\n",
      "96+66   = 162 [predict: 162] ✓\n",
      "21+50   = 71  [predict: 71 ] ✓\n",
      "63+74   = 137 [predict: 137] ✓\n",
      "80+71   = 151 [predict: 151] ✓\n",
      "77+79   = 156 [predict: 156] ✓\n",
      "1+36    = 37  [predict: 37 ] ✓\n",
      "61+100  = 161 [predict: 162] \n",
      "77+57   = 134 [predict: 134] ✓\n",
      "51+91   = 142 [predict: 142] ✓\n"
     ]
    }
   ],
   "source": [
    "x_encoded = [decode(example, vocabulary) for example in x_test]\n",
    "y_expected = [decode(label, vocabulary) for label in y_test]\n",
    "y_predicted = [decode(prediction, vocabulary) for prediction in predictions]\n",
    "\n",
    "explore_num = 40\n",
    "for example, label, prediction in list(zip(x_encoded, y_expected, y_predicted))[:explore_num]:\n",
    "    checkmark = '✓' if label == prediction else ''\n",
    "    print('{} = {} [predict: {}] {}'.format(example, label, prediction, checkmark))"
   ]
  },
  {
   "cell_type": "markdown",
   "metadata": {},
   "source": [
    "## Debugging the model with TensorBoard\n",
    "\n",
    "[TensorBoard](https://www.tensorflow.org/tensorboard) is a tool for providing the measurements and visualizations needed during the machine learning workflow. It enables tracking experiment metrics like loss and accuracy, visualizing the model graph, projecting embeddings to a lower dimensional space, and much more."
   ]
  },
  {
   "cell_type": "code",
   "execution_count": 33,
   "metadata": {},
   "outputs": [
    {
     "data": {
      "text/plain": [
       "Reusing TensorBoard on port 6006 (pid 22176), started 1 day, 4:49:20 ago. (Use '!kill 22176' to kill it.)"
      ]
     },
     "metadata": {},
     "output_type": "display_data"
    },
    {
     "data": {
      "text/html": [
       "\n",
       "      <iframe id=\"tensorboard-frame-1acf9ac58d8f08f8\" width=\"100%\" height=\"800\" frameborder=\"0\">\n",
       "      </iframe>\n",
       "      <script>\n",
       "        (function() {\n",
       "          const frame = document.getElementById(\"tensorboard-frame-1acf9ac58d8f08f8\");\n",
       "          const url = new URL(\"http://localhost\");\n",
       "          const port = 6006;\n",
       "          if (port) {\n",
       "            url.port = port;\n",
       "          }\n",
       "          frame.src = url;\n",
       "        })();\n",
       "      </script>\n",
       "    "
      ],
      "text/plain": [
       "<IPython.core.display.HTML object>"
      ]
     },
     "metadata": {},
     "output_type": "display_data"
    }
   ],
   "source": [
    "%tensorboard --logdir .logs/fit"
   ]
  },
  {
   "cell_type": "markdown",
   "metadata": {},
   "source": [
    "## Save a model"
   ]
  },
  {
   "cell_type": "code",
   "execution_count": 34,
   "metadata": {},
   "outputs": [
    {
     "name": "stderr",
     "output_type": "stream",
     "text": [
      "WARNING:absl:The `save_format` argument is deprecated in Keras 3. We recommend removing this argument as it can be inferred from the file path. Received: save_format=h5\n",
      "WARNING:absl:You are saving your model as an HDF5 file via `model.save()` or `keras.saving.save_model(model)`. This file format is considered legacy. We recommend using instead the native Keras format, e.g. `model.save('my_model.keras')` or `keras.saving.save_model(model, 'my_model.keras')`. \n"
     ]
    }
   ],
   "source": [
    "model_name = 'numbers_summation_rnn.h5'\n",
    "model.save(model_name, save_format='h5')"
   ]
  },
  {
   "cell_type": "markdown",
   "metadata": {},
   "source": [
    "## Converting the model to web-format\n",
    "\n",
    "To use this model on the web we need to convert it into the format that will be understandable by [tensorflowjs](https://www.tensorflow.org/js). To do so we may use [tfjs-converter](https://github.com/tensorflow/tfjs/tree/master/tfjs-converter) as following:\n",
    "\n",
    "```\n",
    "tensorflowjs_converter --input_format keras \\\n",
    "  ./experiments/numbers_summation_rnn/numbers_summation_rnn.h5 \\\n",
    "  ./demos/public/models/numbers_summation_rnn\n",
    "```\n",
    "\n",
    "You may find this experiment in the [Demo app](https://trekhleb.github.io/machine-learning-experiments) and play around with it right in you browser to see how the model performs in real life."
   ]
  }
 ],
 "metadata": {
  "kernelspec": {
   "display_name": "Python 3",
   "language": "python",
   "name": "python3"
  },
  "language_info": {
   "codemirror_mode": {
    "name": "ipython",
    "version": 3
   },
   "file_extension": ".py",
   "mimetype": "text/x-python",
   "name": "python",
   "nbconvert_exporter": "python",
   "pygments_lexer": "ipython3",
   "version": "3.11.9"
  }
 },
 "nbformat": 4,
 "nbformat_minor": 2
}
